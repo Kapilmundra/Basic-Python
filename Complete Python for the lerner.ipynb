{
 "cells": [
  {
   "cell_type": "markdown",
   "metadata": {},
   "source": [
    "# Basic Python"
   ]
  },
  {
   "cell_type": "markdown",
   "metadata": {},
   "source": [
    "# Comments"
   ]
  },
  {
   "cell_type": "code",
   "execution_count": null,
   "metadata": {},
   "outputs": [],
   "source": [
    "# for 1 line comment\n",
    "\n",
    "\"\"\"\n",
    "for More then 1 line\n",
    "\"\"\""
   ]
  },
  {
   "cell_type": "markdown",
   "metadata": {},
   "source": [
    "# Binary Operators"
   ]
  },
  {
   "cell_type": "code",
   "execution_count": null,
   "metadata": {},
   "outputs": [],
   "source": [
    "#Airthmatic Operation\n",
    "a=7\n",
    "b=3\n",
    "c=a+b\n",
    "print(c)"
   ]
  },
  {
   "cell_type": "code",
   "execution_count": null,
   "metadata": {},
   "outputs": [],
   "source": [
    "#use of double**\n",
    "square=c**2\n",
    "print(square)"
   ]
  },
  {
   "cell_type": "code",
   "execution_count": null,
   "metadata": {},
   "outputs": [],
   "source": [
    "#Assingment operator\n",
    "i=2\n",
    "i+=1\n",
    "i-=4\n",
    "i*=2\n",
    "print(i)"
   ]
  },
  {
   "cell_type": "code",
   "execution_count": null,
   "metadata": {},
   "outputs": [],
   "source": [
    "#identity\n",
    "a=25\n",
    "print(a is 25)\n",
    "print(a is not 25)"
   ]
  },
  {
   "cell_type": "code",
   "execution_count": null,
   "metadata": {},
   "outputs": [],
   "source": [
    "#Membership\n",
    "L=[1,2,3,4,5,6]\n",
    "print(6 in L)\n",
    "print(6 not in L)"
   ]
  },
  {
   "cell_type": "code",
   "execution_count": null,
   "metadata": {},
   "outputs": [],
   "source": [
    "#Bitwise operator\n",
    "print(13>>1)\n",
    "print(13<<1)\n",
    "\"\"\"\"Ex or\"\"\" \n",
    "a=4\n",
    "b=6\n",
    "print(a^b)"
   ]
  },
  {
   "cell_type": "code",
   "execution_count": null,
   "metadata": {},
   "outputs": [],
   "source": [
    "#Logical operator\n",
    "a=4\n",
    "b=6\n",
    "if(a==4 and b==6):\n",
    "    print(\"And operation execute\")\n",
    "else:\n",
    "    print(\"not and operator execute\")"
   ]
  },
  {
   "cell_type": "code",
   "execution_count": null,
   "metadata": {},
   "outputs": [],
   "source": [
    "#Comperiision\n",
    "a=3\n",
    "b=4\n",
    "if(a==b):\n",
    "    print(\"a is equal to b\")\n",
    "else:\n",
    "    print(\"a is not equal to b\")"
   ]
  },
  {
   "cell_type": "markdown",
   "metadata": {},
   "source": [
    "# Ternary Operator"
   ]
  },
  {
   "cell_type": "code",
   "execution_count": null,
   "metadata": {},
   "outputs": [],
   "source": [
    "#variable= statement1 if(condition) statement2\n",
    "a=10\n",
    "msg=\"even\" if(a%2==0) else \"odd\"\n",
    "print(msg)"
   ]
  },
  {
   "cell_type": "markdown",
   "metadata": {},
   "source": [
    "# Input"
   ]
  },
  {
   "cell_type": "code",
   "execution_count": null,
   "metadata": {},
   "outputs": [],
   "source": [
    "#how to take input from the user\n",
    "myname=input(\"Enter the name: \")\n",
    "print(myname)\n",
    "print(type(myname))\n",
    "\n",
    "myage=input(\"Enter the age: \")\n",
    "print(type(myage))\n",
    "\n",
    "#Type casting\n",
    "myage=int(myage)\n",
    "print(type(myage))\n",
    "print(myage+10)\n",
    "\n",
    "age=int(input(\"Enter the age: \"))\n",
    "print(type(age))"
   ]
  },
  {
   "cell_type": "markdown",
   "metadata": {},
   "source": [
    "# Conditional Statement"
   ]
  },
  {
   "cell_type": "code",
   "execution_count": null,
   "metadata": {},
   "outputs": [],
   "source": [
    "#if-else\n",
    "a=int(input(\"Enter a no=\"))\n",
    "if(a%2==0):\n",
    "    print(\"even\")\n",
    "else:\n",
    "    print(\"Odd\")"
   ]
  },
  {
   "cell_type": "code",
   "execution_count": null,
   "metadata": {},
   "outputs": [],
   "source": [
    "#if-elif\n",
    "a=int(input(\"Enter a no=\"))\n",
    "b=int(input(\"Enter a no=\"))\n",
    "if(a>b):\n",
    "    print(\"A is greater\")\n",
    "elif(a<b):\n",
    "    print(\"B is greater\")\n",
    "else:\n",
    "    print(\"A and B are equal\")"
   ]
  },
  {
   "cell_type": "markdown",
   "metadata": {},
   "source": [
    "# Practise Question of if else"
   ]
  },
  {
   "cell_type": "code",
   "execution_count": null,
   "metadata": {},
   "outputs": [],
   "source": [
    "#alphabatic program\n",
    "a=input(\"Enter a string\")\n",
    "if(a.isalpha()==True):\n",
    "    print(\"Alphabatic\")\n",
    "else:\n",
    "    print(\"Not alphabatic\")"
   ]
  },
  {
   "cell_type": "code",
   "execution_count": null,
   "metadata": {},
   "outputs": [],
   "source": [
    "#positive-negative\n",
    "a=int(input(\"Enter a no=\"))\n",
    "if(a>0):\n",
    "    print(\"Positive no\")\n",
    "elif(a<0):\n",
    "    print(\"Negative no\")\n",
    "else:\n",
    "    print(\"no is equal to 0\")"
   ]
  },
  {
   "cell_type": "code",
   "execution_count": null,
   "metadata": {},
   "outputs": [],
   "source": [
    "#Leap Year\n",
    "year=int(input(\"Enter a year=\"))\n",
    "if(year%4==0):\n",
    "    if(year%100!=0):\n",
    "        print(\"Leap year\")\n",
    "    else:\n",
    "        print(\"Not leap year\")\n",
    "elif(year%400==0):\n",
    "    print(\"leap year\")\n",
    "else:\n",
    "    print(\"Not leap year\")"
   ]
  },
  {
   "cell_type": "markdown",
   "metadata": {},
   "source": [
    "# Loop"
   ]
  },
  {
   "cell_type": "markdown",
   "metadata": {},
   "source": [
    "# 1. For loop"
   ]
  },
  {
   "cell_type": "code",
   "execution_count": null,
   "metadata": {},
   "outputs": [],
   "source": [
    "#for loop\n",
    "students=['Ram','shyam','kapil']\n",
    "for a in students:\n",
    "    print(a)"
   ]
  },
  {
   "cell_type": "markdown",
   "metadata": {},
   "source": [
    "# 2. While loop"
   ]
  },
  {
   "cell_type": "code",
   "execution_count": null,
   "metadata": {},
   "outputs": [],
   "source": [
    "# use of break\n",
    "number=0\n",
    "while(number<10):\n",
    "    print(number)\n",
    "    if(number==5):\n",
    "        break\n",
    "    number=number+1\n",
    "print(\"Loop ended\")"
   ]
  },
  {
   "cell_type": "code",
   "execution_count": null,
   "metadata": {},
   "outputs": [],
   "source": [
    "# use of continue\n",
    "number=0\n",
    "while(number<10):\n",
    "    number=number+1\n",
    "    if(number==5):\n",
    "        continue\n",
    "    print(number)\n",
    "print(\"Loop ended\")"
   ]
  },
  {
   "cell_type": "code",
   "execution_count": null,
   "metadata": {},
   "outputs": [],
   "source": [
    "while(True):\n",
    "    marks=input(\"Enter the marks= \")\n",
    "    if(not marks):\n",
    "        break\n",
    "    marks=int(marks)\n",
    "    if(marks>=33):\n",
    "        print(\"Pass\")\n",
    "    else:\n",
    "        print(\"Fail\")"
   ]
  },
  {
   "cell_type": "markdown",
   "metadata": {},
   "source": [
    "# Practise qus of loop"
   ]
  },
  {
   "cell_type": "code",
   "execution_count": null,
   "metadata": {},
   "outputs": [],
   "source": [
    "# Write a program to add and remove the no from list\n",
    "list1=[]\n",
    "a=1\n",
    "while(a):\n",
    "    print(\"1. Add no in list\")\n",
    "    print(\"2. Show list\")\n",
    "    print(\"3. Remove no From list\")\n",
    "    print(\"4. Exit\")\n",
    "    c=int(input(\"Choose option=\"))\n",
    "    b=1\n",
    "    while(b):\n",
    "        if(c==1):\n",
    "            n=int(input(\"How many no u want to enter in list=\"))\n",
    "            for i in range(n):\n",
    "                list1.append(int(input(\"Enter a no=\")))\n",
    "            b=0\n",
    "        if(c==2):\n",
    "            print(list1)\n",
    "            b=0\n",
    "        if(c==3):\n",
    "            i=int(input(\"Enter the index=\"))\n",
    "            list1.pop(i)\n",
    "            b=0\n",
    "        if(c==4):\n",
    "            b=0\n",
    "            a=0"
   ]
  },
  {
   "cell_type": "markdown",
   "metadata": {},
   "source": [
    "# Data type"
   ]
  },
  {
   "cell_type": "code",
   "execution_count": null,
   "metadata": {},
   "outputs": [],
   "source": [
    "\"\"\"\n",
    "Mutable data\n",
    "    1. Numbers\n",
    "        int\n",
    "        float\n",
    "        complex\n",
    "        boolean\n",
    "    2. list\n",
    "    3. Dictionary\n",
    "Imutable data type\n",
    "    4. String\n",
    "    5. Tuple\n",
    "    6. Set\n",
    "\"\"\""
   ]
  },
  {
   "cell_type": "markdown",
   "metadata": {},
   "source": [
    "# Mutable data type"
   ]
  },
  {
   "cell_type": "markdown",
   "metadata": {},
   "source": [
    "# 1. Numeric"
   ]
  },
  {
   "cell_type": "code",
   "execution_count": null,
   "metadata": {},
   "outputs": [],
   "source": [
    "a=7\n",
    "b=7.21\n",
    "c=10j\n",
    "n=10>9\n",
    "print(type(a))\n",
    "print(type(b))\n",
    "print(type(c))\n",
    "print(type(n))"
   ]
  },
  {
   "cell_type": "code",
   "execution_count": null,
   "metadata": {},
   "outputs": [],
   "source": [
    "#Numeric Function\n",
    "print(\"\\nNumeric Function\")\n",
    "print(min(0,1,2,5))\n",
    "print(max(0,1,2,5))\n",
    "print(abs(-43))\n",
    "print(abs(43))\n",
    "print(round(42.23))\n",
    "print(round(42.68))\n",
    "print(sum([1,2,3,4]))"
   ]
  },
  {
   "cell_type": "markdown",
   "metadata": {},
   "source": [
    "# 2. List"
   ]
  },
  {
   "cell_type": "code",
   "execution_count": null,
   "metadata": {},
   "outputs": [],
   "source": [
    "#Create list\n",
    "print(\"Create list\")\n",
    "a=[\"kavita\",\"duggu\",\"kaplu\"]\n",
    "print(a)"
   ]
  },
  {
   "cell_type": "code",
   "execution_count": null,
   "metadata": {},
   "outputs": [],
   "source": [
    "#Store the data of list in another list\n",
    "print(\"\\nStore the data of list in another list\")\n",
    "b=list(a)\n",
    "print(b)"
   ]
  },
  {
   "cell_type": "code",
   "execution_count": null,
   "metadata": {},
   "outputs": [],
   "source": [
    "#Append\n",
    "print(\"\\nappend\")\n",
    "a.append(\"pasta\")\n",
    "print(a)"
   ]
  },
  {
   "cell_type": "code",
   "execution_count": null,
   "metadata": {},
   "outputs": [],
   "source": [
    "#Pop the data from list\n",
    "print(\"\\nPop the data from list\")\n",
    "a.pop() # pop the element by indexing if index is not given then it pop last element"
   ]
  },
  {
   "cell_type": "code",
   "execution_count": null,
   "metadata": {},
   "outputs": [],
   "source": [
    "#Copy the data in another list\n",
    "print(\"\\nCopy the data in another list\")\n",
    "c=a.copy()\n",
    "print(c)"
   ]
  },
  {
   "cell_type": "code",
   "execution_count": null,
   "metadata": {},
   "outputs": [],
   "source": [
    "#Remove the data from the list\n",
    "print(\"\\nRemove the data from the list\")\n",
    "a.remove(\"kavita\")\n",
    "print(a)"
   ]
  },
  {
   "cell_type": "code",
   "execution_count": null,
   "metadata": {},
   "outputs": [],
   "source": [
    "#Insert the data in list\n",
    "print(\"\\nInsert the data in list\")\n",
    "a.insert(1,\"kavita\")\n",
    "print(a)"
   ]
  },
  {
   "cell_type": "code",
   "execution_count": null,
   "metadata": {},
   "outputs": [],
   "source": [
    "#Indexing by value\n",
    "print(\"\\nIndexing by value\")\n",
    "print(a.index(\"kavita\"))"
   ]
  },
  {
   "cell_type": "code",
   "execution_count": null,
   "metadata": {},
   "outputs": [],
   "source": [
    "#Position\n",
    "print(\"\\nPosition\")\n",
    "a[0]=\"kapil\"\n",
    "print(a)"
   ]
  },
  {
   "cell_type": "code",
   "execution_count": null,
   "metadata": {},
   "outputs": [],
   "source": [
    "#Searching in list\n",
    "print(\"Searching\")\n",
    "print(\"kavita\" in a)"
   ]
  },
  {
   "cell_type": "code",
   "execution_count": null,
   "metadata": {},
   "outputs": [],
   "source": [
    "#Range\n",
    "print(\"\\nRange\")\n",
    "num=list(range(10))\n",
    "print(num)\n",
    "num1=list(range(5,8))\n",
    "print(num1)\n",
    "num2=list(range(5,20,2))\n",
    "print(num2)"
   ]
  },
  {
   "cell_type": "code",
   "execution_count": null,
   "metadata": {},
   "outputs": [],
   "source": [
    "#Sorting\n",
    "list1=[10,3,2,19,4]\n",
    "print(list1)\n",
    "list1.sort()\n",
    "print(list1)\n",
    "list1.reverse()\n",
    "print(list1)\n",
    "list1.sort(reverse=True)\n",
    "print(list1)"
   ]
  },
  {
   "cell_type": "markdown",
   "metadata": {},
   "source": [
    "# 3. Dictionary"
   ]
  },
  {
   "cell_type": "code",
   "execution_count": null,
   "metadata": {},
   "outputs": [],
   "source": [
    "#initialization of dictionary\n",
    "print(\"initialization of dictionary\")\n",
    "d={\"name\":\"kavita\",\n",
    "   \"rollno\":123,\n",
    "   \"msg\":\"Hello\"}   \n",
    "print(d)\n",
    "\n",
    "print(\"\\nShow keys and values of dictionary\")\n",
    "for x in d:\n",
    "    print(x,\" \",d[x])   #Show keys(x) and value(d[x]) in dictionary"
   ]
  },
  {
   "cell_type": "code",
   "execution_count": null,
   "metadata": {},
   "outputs": [],
   "source": [
    "#add new value in dictionary\n",
    "print(\"\\nadd new value in dictionary\")\n",
    "d[\"subject\"]=\"Maths\"\n",
    "print(d)"
   ]
  },
  {
   "cell_type": "code",
   "execution_count": null,
   "metadata": {},
   "outputs": [],
   "source": [
    "#show length of dictionary\n",
    "print(\"\\nshow length of dictionary\")\n",
    "length=len(d)\n",
    "print(length)"
   ]
  },
  {
   "cell_type": "code",
   "execution_count": null,
   "metadata": {},
   "outputs": [],
   "source": [
    "#Empty dictionary\n",
    "print(\"\\nEmpty dictionary\")\n",
    "a={\"a\":1,\"b\":2,\"c\":3}\n",
    "print(a)\n",
    "a.clear()\n",
    "print(a)"
   ]
  },
  {
   "cell_type": "code",
   "execution_count": null,
   "metadata": {},
   "outputs": [],
   "source": [
    "#pop the element from dictionary\n",
    "print(\"\\npop the element from dictionary\")\n",
    "a={\"a\":1,\"b\":2,\"c\":3}\n",
    "a.pop(\"a\")\n",
    "print(a)"
   ]
  },
  {
   "cell_type": "code",
   "execution_count": null,
   "metadata": {},
   "outputs": [],
   "source": [
    "#print values of dictionary\n",
    "print(\"\\nprint values of dictionary\")\n",
    "for x in d.values():\n",
    "    print(x)"
   ]
  },
  {
   "cell_type": "code",
   "execution_count": null,
   "metadata": {},
   "outputs": [],
   "source": [
    "#print items of dictionary\n",
    "print(\"\\nprint items of dictionary\")\n",
    "for x in d.items():\n",
    "    print(x)"
   ]
  },
  {
   "cell_type": "code",
   "execution_count": null,
   "metadata": {},
   "outputs": [],
   "source": [
    "#get value by key\n",
    "print(\"\\nget value by key\")\n",
    "x=d.get(\"name\")\n",
    "print(x)"
   ]
  },
  {
   "cell_type": "code",
   "execution_count": null,
   "metadata": {},
   "outputs": [],
   "source": [
    "#delete the dictionary\n",
    "print(\"\\ndelete the dictionary\")\n",
    "del a"
   ]
  },
  {
   "cell_type": "code",
   "execution_count": null,
   "metadata": {},
   "outputs": [],
   "source": [
    "# Converting list to dictionary\n",
    "list1=['one','one','two','three','one','two']\n",
    "dict1={}\n",
    "for item in list1:\n",
    "    if item not in dict1:\n",
    "        dict1[item]=1\n",
    "    else:\n",
    "        dict1[item]=dict1[item]+1\n",
    "print(dict1)"
   ]
  },
  {
   "cell_type": "markdown",
   "metadata": {},
   "source": [
    "# Inmutable"
   ]
  },
  {
   "cell_type": "markdown",
   "metadata": {},
   "source": [
    "# 4. String"
   ]
  },
  {
   "cell_type": "code",
   "execution_count": null,
   "metadata": {},
   "outputs": [],
   "source": [
    "#String type\n",
    "myvar4=\"Kapil Mundra\" \n",
    "print(type(myvar4))\n",
    "\n",
    "myvar5='Kapil mundra'\n",
    "print(type(myvar5))\n",
    "\n",
    "#None type\n",
    "myvar6=None \n",
    "print(type(myvar6))\n"
   ]
  },
  {
   "cell_type": "markdown",
   "metadata": {},
   "source": [
    "# Sequence operation of string"
   ]
  },
  {
   "cell_type": "markdown",
   "metadata": {},
   "source": [
    "#  A.  Indexing of string"
   ]
  },
  {
   "cell_type": "code",
   "execution_count": null,
   "metadata": {},
   "outputs": [],
   "source": [
    "str=\"Jaipur India\"\n",
    "type(str)\n",
    "#check the length of str\n",
    "print(len(str))\n",
    "s1=\"Python is very easy language\"\n",
    "print(s1)\n",
    "print(s1[0])\n",
    "print(s1[2])\n",
    "print(s1[5])\n",
    "print(s1[6])\n",
    "print(s1[9])\n",
    "print(s1[13])\n",
    "print(s1[-1])"
   ]
  },
  {
   "cell_type": "markdown",
   "metadata": {},
   "source": [
    "# B.  Slicing in String"
   ]
  },
  {
   "cell_type": "code",
   "execution_count": null,
   "metadata": {},
   "outputs": [],
   "source": [
    "str=\"Jaipur India\"\n",
    "#Slicing\n",
    "print(str[0:10])\n",
    "print(str[0:5])\n",
    "print(str[-1])\n",
    "print(str[-2])\n",
    "print(str[0:10:2])\n",
    "print(str[0:10:1])\n",
    "print(str[::-1]) #Reverse order printing\n",
    "print(str[4:])"
   ]
  },
  {
   "cell_type": "markdown",
   "metadata": {},
   "source": [
    "# C.  Concatination"
   ]
  },
  {
   "cell_type": "code",
   "execution_count": null,
   "metadata": {},
   "outputs": [],
   "source": [
    "#Concatination\n",
    "s2=\"Hello python\"\n",
    "s3=s1+s2\n",
    "print(s3)"
   ]
  },
  {
   "cell_type": "markdown",
   "metadata": {},
   "source": [
    "# D. Repetation"
   ]
  },
  {
   "cell_type": "code",
   "execution_count": null,
   "metadata": {},
   "outputs": [],
   "source": [
    "#Repetation\n",
    "s4=s2*3\n",
    "print(s4)\n",
    "s5=(s2+' ')*3\n",
    "print(s5)"
   ]
  },
  {
   "cell_type": "markdown",
   "metadata": {},
   "source": [
    "# Type Specific Method of String"
   ]
  },
  {
   "cell_type": "code",
   "execution_count": null,
   "metadata": {},
   "outputs": [],
   "source": [
    "s1=\"Yahoo\"\n",
    "s2=\"Yahoo123\"\n",
    "s3=\"12345\"\n",
    "s4=\"Yahoo_123\"\n",
    "s5=\"Eychoo \"\n",
    "s6=\"_yahoo123\"\n",
    "s7=\"Yahoo_a_123\""
   ]
  },
  {
   "cell_type": "code",
   "execution_count": null,
   "metadata": {},
   "outputs": [],
   "source": [
    "#isalpha\n",
    "print(s1.isalpha())\n",
    "print(s2.isalpha())\n",
    "print(s3.isalpha())\n",
    "print(s4.isalpha())\n",
    "print(s5.isalpha())\n",
    "print(s6.isalpha())\n",
    "print(s7.isalpha())"
   ]
  },
  {
   "cell_type": "code",
   "execution_count": null,
   "metadata": {},
   "outputs": [],
   "source": [
    "#isnumeric\n",
    "print(s1.isnumeric())\n",
    "print(s2.isnumeric())\n",
    "print(s3.isnumeric())\n",
    "print(s4.isnumeric())\n",
    "print(s5.isnumeric())\n",
    "print(s6.isnumeric())\n",
    "print(s7.isnumeric())"
   ]
  },
  {
   "cell_type": "code",
   "execution_count": null,
   "metadata": {},
   "outputs": [],
   "source": [
    "#isalnum\n",
    "print(s1.isalnum())\n",
    "print(s2.isalnum())\n",
    "print(s3.isalnum())\n",
    "print(s4.isalnum())\n",
    "print(s5.isalnum())\n",
    "print(s6.isalnum())\n",
    "print(s7.isalnum())"
   ]
  },
  {
   "cell_type": "code",
   "execution_count": null,
   "metadata": {},
   "outputs": [],
   "source": [
    "#isidentifier\n",
    "print(s1.isidentifier())\n",
    "print(s2.isidentifier())\n",
    "print(s3.isidentifier())\n",
    "print(s4.isidentifier())\n",
    "print(s5.isidentifier())\n",
    "print(s6.isidentifier())\n",
    "print(s7.isidentifier())"
   ]
  },
  {
   "cell_type": "markdown",
   "metadata": {},
   "source": [
    "# String Function"
   ]
  },
  {
   "cell_type": "code",
   "execution_count": null,
   "metadata": {},
   "outputs": [],
   "source": [
    "str=\"Jaipur India\"\n",
    "#String Function\n",
    "print(str.lower())\n",
    "print(str.upper())\n",
    "print(str.index('pur'))\n",
    "print(str.capitalize())\n",
    "print(str.count('a'))\n",
    "print(str.title())\n",
    "print(str.find(\"Jaipur\"))"
   ]
  },
  {
   "cell_type": "code",
   "execution_count": null,
   "metadata": {},
   "outputs": [],
   "source": [
    "del str #now str is not exist"
   ]
  },
  {
   "cell_type": "code",
   "execution_count": null,
   "metadata": {},
   "outputs": [],
   "source": [
    "# Strip\n",
    "str=\"Jaipur India\"\n",
    "str1=\"   Kapil\"\n",
    "print(str1)\n",
    "str2=str1.strip()\n",
    "print(str2)"
   ]
  },
  {
   "cell_type": "code",
   "execution_count": null,
   "metadata": {},
   "outputs": [],
   "source": [
    "# Split and Join\n",
    "str=\"Jaipur India\"\n",
    "str1=\"   Kapil\"\n",
    "list1=str1.split()\n",
    "print(list1)\n",
    "list2=str1.split(\"a\")\n",
    "print(list2)\n",
    "str2=\" \".join(list1)\n",
    "print(str2)\n",
    "\n",
    "# replace\n",
    "str.replace('J','j')"
   ]
  },
  {
   "cell_type": "code",
   "execution_count": null,
   "metadata": {},
   "outputs": [],
   "source": [
    "#String Formating\n",
    "print(\"String Formating\")\n",
    "nums=[4,5,6]\n",
    "msg=\"Numbers: {0} {1} {2}\".format(nums[0],nums[1],nums[2])\n",
    "print(msg)"
   ]
  },
  {
   "cell_type": "markdown",
   "metadata": {},
   "source": [
    "# 5. Tuple"
   ]
  },
  {
   "cell_type": "code",
   "execution_count": null,
   "metadata": {},
   "outputs": [],
   "source": [
    "#Create tuple\n",
    "print(\"Create tuple\")\n",
    "t=tuple((1,2,3,4,5,6,5,7,5))\n",
    "print(t)"
   ]
  },
  {
   "cell_type": "code",
   "execution_count": null,
   "metadata": {},
   "outputs": [],
   "source": [
    "#count the values in tuple\n",
    "print(\"count the values in tuple\")\n",
    "b=t.count(5)\n",
    "print(b)"
   ]
  },
  {
   "cell_type": "code",
   "execution_count": null,
   "metadata": {},
   "outputs": [],
   "source": [
    "#Indexing of tuple\n",
    "c=t.index(2)\n",
    "print(c)"
   ]
  },
  {
   "cell_type": "code",
   "execution_count": null,
   "metadata": {},
   "outputs": [],
   "source": [
    "#Delete of tuple\n",
    "a=(\"teena\",\"meena\",\"reena\")\n",
    "del a"
   ]
  },
  {
   "cell_type": "markdown",
   "metadata": {},
   "source": [
    "# 6. Set"
   ]
  },
  {
   "cell_type": "code",
   "execution_count": null,
   "metadata": {},
   "outputs": [],
   "source": [
    "#Create set\n",
    "print(\"Create set\")\n",
    "s={\"teena\",\"meena\",\"reena\"}\n",
    "print(s)   # it can print in unorder way"
   ]
  },
  {
   "cell_type": "code",
   "execution_count": null,
   "metadata": {},
   "outputs": [],
   "source": [
    "#pop the element from the set\n",
    "print(\"\\npop the element from the set\")\n",
    "s.pop()   # it can pop the element in unorder way\n",
    "print(s)"
   ]
  },
  {
   "cell_type": "code",
   "execution_count": null,
   "metadata": {},
   "outputs": [],
   "source": [
    "#Add element in the set\n",
    "print(\"\\nAdd element in the set\")\n",
    "s.add(\"priya\") # it can add the new value in unorder way \n",
    "print(s)\n",
    "s.add(\"priya\")   # distinct(not return same value in set)\n",
    "print(s)"
   ]
  },
  {
   "cell_type": "code",
   "execution_count": null,
   "metadata": {},
   "outputs": [],
   "source": [
    "#Operation\n",
    "print(\"\\nOperation\")\n",
    "p={\"rajesh\",\"manish\",\"reena\"}\n",
    "print(p)\n",
    "print(\"Difference\")\n",
    "x=s.difference(p)\n",
    "print(x)\n",
    "print(\"Intersection\")\n",
    "z=p.intersection(s)\n",
    "print(z)\n",
    "print(\"Difference_update\")\n",
    "s.difference_update(p)\n",
    "print(s)"
   ]
  },
  {
   "cell_type": "markdown",
   "metadata": {},
   "source": [
    "# Collection module- Specialized Collection Data Type"
   ]
  },
  {
   "cell_type": "code",
   "execution_count": 1,
   "metadata": {},
   "outputs": [
    {
     "data": {
      "text/plain": [
       "'\\n1. namedtuple\\n2. Chainmap\\n3. deque\\n4. Counter\\n5. OrdredDict\\n6. defaultdict\\n7. UserDict\\n8. UserList\\n9. UserString\\n'"
      ]
     },
     "execution_count": 1,
     "metadata": {},
     "output_type": "execute_result"
    }
   ],
   "source": [
    "\"\"\"\n",
    "1. namedtuple\n",
    "2. Chainmap\n",
    "3. deque\n",
    "4. Counter\n",
    "5. OrdredDict\n",
    "6. defaultdict\n",
    "7. UserDict\n",
    "8. UserList\n",
    "9. UserString\n",
    "\"\"\""
   ]
  },
  {
   "cell_type": "markdown",
   "metadata": {},
   "source": [
    "# 1. namedtuple()"
   ]
  },
  {
   "cell_type": "code",
   "execution_count": 1,
   "metadata": {},
   "outputs": [
    {
     "name": "stdout",
     "output_type": "stream",
     "text": [
      "courses(name='Data science', technology='Python')\n"
     ]
    }
   ],
   "source": [
    "from collections import namedtuple\n",
    "a=namedtuple('courses','name,technology')\n",
    "s=a('Data science','Python')\n",
    "print(s)"
   ]
  },
  {
   "cell_type": "markdown",
   "metadata": {},
   "source": [
    "# 2. deque"
   ]
  },
  {
   "cell_type": "code",
   "execution_count": 5,
   "metadata": {},
   "outputs": [
    {
     "name": "stdout",
     "output_type": "stream",
     "text": [
      "deque(['k', 'a', 'p', 'i', 'l'])\n",
      "deque(['k', 'a', 'p', 'i', 'l', 'python'])\n",
      "deque(['python', 'k', 'a', 'p', 'i', 'l', 'python'])\n",
      "deque(['python', 'k', 'a', 'p', 'i', 'l'])\n",
      "deque(['k', 'a', 'p', 'i', 'l'])\n"
     ]
    }
   ],
   "source": [
    "from collections import deque  #optimize the list\n",
    "a=['k','a','p','i','l']\n",
    "d=deque(a)\n",
    "print(d)\n",
    "# append \n",
    "d.append('python')\n",
    "print(d)\n",
    "#appendleft\n",
    "d.appendleft('python')\n",
    "print(d)\n",
    "#pop\n",
    "d.pop()\n",
    "print(d)\n",
    "#popleft\n",
    "d.popleft()\n",
    "print(d)"
   ]
  },
  {
   "cell_type": "markdown",
   "metadata": {},
   "source": [
    "# 3. Chainmap"
   ]
  },
  {
   "cell_type": "code",
   "execution_count": 6,
   "metadata": {},
   "outputs": [
    {
     "name": "stdout",
     "output_type": "stream",
     "text": [
      "ChainMap({1: 'edureka', 2: 'python'}, {3: 'ML', 4: 'AI'})\n"
     ]
    }
   ],
   "source": [
    "# like a dict. it create a single view of multiple mapping\n",
    "from collections import ChainMap\n",
    "a={1:'edureka',2:'python'}\n",
    "b={3:'ML',4:'AI'}\n",
    "a1=ChainMap(a,b)\n",
    "print(a1)"
   ]
  },
  {
   "cell_type": "markdown",
   "metadata": {},
   "source": [
    "# 4. Counter"
   ]
  },
  {
   "cell_type": "code",
   "execution_count": 7,
   "metadata": {},
   "outputs": [
    {
     "name": "stdout",
     "output_type": "stream",
     "text": [
      "Counter({3: 4, 4: 4, 5: 3, 2: 2, 1: 1})\n"
     ]
    }
   ],
   "source": [
    "# it is adict subclass for counting hashhable obj\n",
    "from collections import Counter\n",
    "a=[1,2,3,2,3,4,5,4,3,4,5,5,3,4]\n",
    "c=Counter(a)\n",
    "print(c)"
   ]
  },
  {
   "cell_type": "code",
   "execution_count": 8,
   "metadata": {},
   "outputs": [
    {
     "name": "stdout",
     "output_type": "stream",
     "text": [
      "[1, 2, 2, 3, 3, 3, 3, 4, 4, 4, 4, 5, 5, 5]\n"
     ]
    }
   ],
   "source": [
    "#element()\n",
    "print(list(c.elements()))"
   ]
  },
  {
   "cell_type": "code",
   "execution_count": 9,
   "metadata": {},
   "outputs": [
    {
     "name": "stdout",
     "output_type": "stream",
     "text": [
      "[(3, 4), (4, 4), (5, 3), (2, 2), (1, 1)]\n"
     ]
    }
   ],
   "source": [
    "#most_common\n",
    "print(c.most_common())"
   ]
  },
  {
   "cell_type": "code",
   "execution_count": 10,
   "metadata": {},
   "outputs": [
    {
     "name": "stdout",
     "output_type": "stream",
     "text": [
      "None\n",
      "[(3, 3), (4, 3), (5, 3), (2, 2), (1, 1)]\n"
     ]
    }
   ],
   "source": [
    "#subtract\n",
    "sub={3:1,4:1}\n",
    "print(c.subtract(sub))\n",
    "print(c.most_common())"
   ]
  },
  {
   "cell_type": "markdown",
   "metadata": {},
   "source": [
    "# 5. OrderedDict"
   ]
  },
  {
   "cell_type": "code",
   "execution_count": 12,
   "metadata": {},
   "outputs": [
    {
     "name": "stdout",
     "output_type": "stream",
     "text": [
      "OrderedDict([(1, 'k'), (2, 'a'), (3, 'p'), (4, 'i'), (5, 'l')])\n"
     ]
    }
   ],
   "source": [
    "# It is dict subclass which remember the order in which the entries were done\n",
    "from collections import OrderedDict\n",
    "d= OrderedDict()\n",
    "d[1]='k'\n",
    "d[2]='a'\n",
    "d[3]='p'\n",
    "d[4]='i'\n",
    "d[5]='l'\n",
    "print(d)"
   ]
  },
  {
   "cell_type": "code",
   "execution_count": 13,
   "metadata": {},
   "outputs": [
    {
     "name": "stdout",
     "output_type": "stream",
     "text": [
      "odict_keys([1, 2, 3, 4, 5])\n"
     ]
    }
   ],
   "source": [
    "#keys\n",
    "print(d.keys())"
   ]
  },
  {
   "cell_type": "code",
   "execution_count": 14,
   "metadata": {},
   "outputs": [
    {
     "name": "stdout",
     "output_type": "stream",
     "text": [
      "odict_items([(1, 'k'), (2, 'a'), (3, 'p'), (4, 'i'), (5, 'l')])\n"
     ]
    }
   ],
   "source": [
    "#items\n",
    "print(d.items())"
   ]
  },
  {
   "cell_type": "markdown",
   "metadata": {},
   "source": [
    "# 6. defaultdict"
   ]
  },
  {
   "cell_type": "code",
   "execution_count": 18,
   "metadata": {},
   "outputs": [
    {
     "data": {
      "text/plain": [
       "\"from collections import defaultdict\\nd=defaultdict()\\nd[1]='python'\\nd[2]='ml'\\nprint(d[3])\""
      ]
     },
     "execution_count": 18,
     "metadata": {},
     "output_type": "execute_result"
    }
   ],
   "source": [
    "# It is dict subclass which calls a factory function to supply missing values\n",
    "'''from collections import defaultdict\n",
    "d=defaultdict()\n",
    "d[1]='python'\n",
    "d[2]='ml'\n",
    "print(d[3])'''"
   ]
  },
  {
   "cell_type": "markdown",
   "metadata": {},
   "source": [
    "# 7. userdict"
   ]
  },
  {
   "cell_type": "code",
   "execution_count": 19,
   "metadata": {},
   "outputs": [],
   "source": [
    "# wraper around dict objects for easier dict subclassing\n"
   ]
  },
  {
   "cell_type": "markdown",
   "metadata": {},
   "source": [
    "# 8. userlist"
   ]
  },
  {
   "cell_type": "code",
   "execution_count": null,
   "metadata": {},
   "outputs": [],
   "source": [
    "# wraper around list objects for easier list subclassing"
   ]
  },
  {
   "cell_type": "markdown",
   "metadata": {},
   "source": [
    "# 9. userstring"
   ]
  },
  {
   "cell_type": "code",
   "execution_count": 21,
   "metadata": {},
   "outputs": [],
   "source": [
    "# wraper around string objects for easier string subclassing"
   ]
  },
  {
   "cell_type": "markdown",
   "metadata": {},
   "source": [
    "# Arrays"
   ]
  },
  {
   "cell_type": "code",
   "execution_count": 25,
   "metadata": {},
   "outputs": [
    {
     "data": {
      "text/plain": [
       "array('i', [1, 2, 3, 4, 5])"
      ]
     },
     "execution_count": 25,
     "metadata": {},
     "output_type": "execute_result"
    }
   ],
   "source": [
    "import array as arr\n",
    "a=arr.array('i',[1,2,3,4,5])\n",
    "a"
   ]
  },
  {
   "cell_type": "code",
   "execution_count": 26,
   "metadata": {},
   "outputs": [
    {
     "data": {
      "text/plain": [
       "3"
      ]
     },
     "execution_count": 26,
     "metadata": {},
     "output_type": "execute_result"
    }
   ],
   "source": [
    "#accecing\n",
    "a[2]"
   ]
  },
  {
   "cell_type": "code",
   "execution_count": 27,
   "metadata": {},
   "outputs": [
    {
     "data": {
      "text/plain": [
       "5"
      ]
     },
     "execution_count": 27,
     "metadata": {},
     "output_type": "execute_result"
    }
   ],
   "source": [
    "#finding length\n",
    "len(a)"
   ]
  },
  {
   "cell_type": "code",
   "execution_count": 28,
   "metadata": {},
   "outputs": [
    {
     "name": "stdout",
     "output_type": "stream",
     "text": [
      "array('i', [1, 2, 3, 4, 5, 6])\n",
      "array('i', [1, 2, 3, 4, 5, 6, 7, 8, 9])\n",
      "array('i', [0, 1, 2, 3, 4, 5, 6, 7, 8, 9])\n"
     ]
    }
   ],
   "source": [
    "# append, extend,insert\n",
    "a.append(6)\n",
    "print(a)\n",
    "a.extend([7,8,9])\n",
    "print(a)\n",
    "a.insert(0,0)\n",
    "print(a)"
   ]
  },
  {
   "cell_type": "code",
   "execution_count": 29,
   "metadata": {},
   "outputs": [],
   "source": [
    "# pop, array\n",
    "a.pop()\n",
    "a.pop(0)  #remove value by indexing\n",
    "a.remove(6)"
   ]
  },
  {
   "cell_type": "code",
   "execution_count": 30,
   "metadata": {},
   "outputs": [
    {
     "data": {
      "text/plain": [
       "array('i', [1, 2, 3, 4, 5, 7, 8])"
      ]
     },
     "execution_count": 30,
     "metadata": {},
     "output_type": "execute_result"
    }
   ],
   "source": [
    "a"
   ]
  },
  {
   "cell_type": "code",
   "execution_count": 31,
   "metadata": {},
   "outputs": [
    {
     "name": "stdout",
     "output_type": "stream",
     "text": [
      "array('i', [1, 2, 3, 4, 5, 1, 2, 3, 4, 5])\n"
     ]
    }
   ],
   "source": [
    "# Concatination\n",
    "b=arr.array('i',[1,2,3,4,5])\n",
    "c=arr.array('i',[1,2,3,4,5])\n",
    "d=arr.array('i')\n",
    "d=b+c\n",
    "print(d)"
   ]
  },
  {
   "cell_type": "markdown",
   "metadata": {},
   "source": [
    "# Hash table or Hashmap"
   ]
  },
  {
   "cell_type": "code",
   "execution_count": 29,
   "metadata": {},
   "outputs": [],
   "source": [
    "# it is a type of data structure that maps keys to its value pairs"
   ]
  },
  {
   "cell_type": "markdown",
   "metadata": {},
   "source": [
    "# List Comprehension"
   ]
  },
  {
   "cell_type": "code",
   "execution_count": 32,
   "metadata": {},
   "outputs": [
    {
     "name": "stdout",
     "output_type": "stream",
     "text": [
      "[1, 4, 9, 16, 25, 36]\n"
     ]
    }
   ],
   "source": [
    "list1=[1,2,3,4,5,6]\n",
    "list3=[item*item for item in list1]\n",
    "print(list3)"
   ]
  },
  {
   "cell_type": "code",
   "execution_count": 33,
   "metadata": {},
   "outputs": [
    {
     "name": "stdout",
     "output_type": "stream",
     "text": [
      "By for loop\n",
      "3\n",
      "5\n",
      "4\n",
      "4\n",
      "By list comprihension\n",
      "[3, 5, 4, 4]\n"
     ]
    }
   ],
   "source": [
    "list1=[\"Ram\",\"Shyam\",\"Sita\",\"Geta\"]\n",
    "print(\"By for loop\")\n",
    "for name in list1:\n",
    "    print(len(name))\n",
    "print(\"By list comprihension\")\n",
    "list2=[len(name) for name in list1]\n",
    "print(list2)"
   ]
  },
  {
   "cell_type": "code",
   "execution_count": 116,
   "metadata": {},
   "outputs": [
    {
     "name": "stdout",
     "output_type": "stream",
     "text": [
      "[False, False, True, False, False]\n"
     ]
    }
   ],
   "source": [
    "list1=[10,20,40,10,5]\n",
    "l1=[item>30 for item in list1]\n",
    "print(l1)"
   ]
  },
  {
   "cell_type": "markdown",
   "metadata": {},
   "source": [
    "# Function"
   ]
  },
  {
   "cell_type": "code",
   "execution_count": 35,
   "metadata": {},
   "outputs": [
    {
     "name": "stdout",
     "output_type": "stream",
     "text": [
      "kavita\n",
      "meena\n",
      "teena\n"
     ]
    }
   ],
   "source": [
    "def output(x):   # Defination of function\n",
    "    for i in x:\n",
    "        print(i)\n",
    "x=[\"kavita\",\"meena\",\"teena\"]\n",
    "output(x) #Calling of function"
   ]
  },
  {
   "cell_type": "code",
   "execution_count": 36,
   "metadata": {},
   "outputs": [
    {
     "name": "stdout",
     "output_type": "stream",
     "text": [
      "\n",
      "Function with argument:\n",
      "30\n"
     ]
    }
   ],
   "source": [
    "#Function with argument\n",
    "print(\"\\nFunction with argument:\")\n",
    "def add(x,y):\n",
    "    return x+y\n",
    "def do_twice(func,x,y):\n",
    "    return func(func(x,y),func(x,y))\n",
    "a=5\n",
    "b=10\n",
    "print(do_twice(add,a,b))"
   ]
  },
  {
   "cell_type": "markdown",
   "metadata": {},
   "source": [
    "# use of map"
   ]
  },
  {
   "cell_type": "code",
   "execution_count": 37,
   "metadata": {},
   "outputs": [
    {
     "data": {
      "text/plain": [
       "[1, 8, 27, 64, 125]"
      ]
     },
     "execution_count": 37,
     "metadata": {},
     "output_type": "execute_result"
    }
   ],
   "source": [
    "#use of map\n",
    "def f1(x):\n",
    "    return x*x*x\n",
    "list1=[1,2,3,4,5]\n",
    "list(map(f1,list1))"
   ]
  },
  {
   "cell_type": "code",
   "execution_count": 38,
   "metadata": {},
   "outputs": [
    {
     "data": {
      "text/plain": [
       "[3, 5, 4, 4]"
      ]
     },
     "execution_count": 38,
     "metadata": {},
     "output_type": "execute_result"
    }
   ],
   "source": [
    "list1=[\"Ram\",\"Shyam\",\"Sita\",\"Geta\"]\n",
    "def f2(str1):\n",
    "    return len(str1)\n",
    "list(map(f2,list1))"
   ]
  },
  {
   "cell_type": "markdown",
   "metadata": {},
   "source": [
    "# use of lambda"
   ]
  },
  {
   "cell_type": "code",
   "execution_count": 39,
   "metadata": {},
   "outputs": [
    {
     "name": "stdout",
     "output_type": "stream",
     "text": [
      "LAMBDA\n",
      "0\n"
     ]
    }
   ],
   "source": [
    "# use of lambda\n",
    "print(\"LAMBDA\")\n",
    "print((lambda x:x**2+5*x+4)(-4))"
   ]
  },
  {
   "cell_type": "code",
   "execution_count": 40,
   "metadata": {},
   "outputs": [
    {
     "name": "stdout",
     "output_type": "stream",
     "text": [
      "5\n"
     ]
    }
   ],
   "source": [
    "add=lambda x,y:x+y\n",
    "print(add(2,3))"
   ]
  },
  {
   "cell_type": "code",
   "execution_count": 41,
   "metadata": {},
   "outputs": [
    {
     "data": {
      "text/plain": [
       "[3, 5, 4, 4]"
      ]
     },
     "execution_count": 41,
     "metadata": {},
     "output_type": "execute_result"
    }
   ],
   "source": [
    "list1=[\"Ram\",\"Shyam\",\"Sita\",\"Geta\"]\n",
    "list(map(lambda str1: len(str1),list1))"
   ]
  },
  {
   "cell_type": "markdown",
   "metadata": {},
   "source": [
    "# use of filter"
   ]
  },
  {
   "cell_type": "code",
   "execution_count": 42,
   "metadata": {},
   "outputs": [
    {
     "data": {
      "text/plain": [
       "[2, 4, 6, 8, 10]"
      ]
     },
     "execution_count": 42,
     "metadata": {},
     "output_type": "execute_result"
    }
   ],
   "source": [
    "#filter\n",
    "list1=[1,2,3,4,5,6,7,8,9,10]\n",
    "def f3(x):\n",
    "    return x%2==0\n",
    "list(filter(f3,list1))"
   ]
  },
  {
   "cell_type": "code",
   "execution_count": 45,
   "metadata": {},
   "outputs": [
    {
     "data": {
      "text/plain": [
       "[2, 4, 6, 8, 10]"
      ]
     },
     "execution_count": 45,
     "metadata": {},
     "output_type": "execute_result"
    }
   ],
   "source": [
    "list(filter(lambda x:x%2==0,list1))"
   ]
  },
  {
   "cell_type": "code",
   "execution_count": 47,
   "metadata": {},
   "outputs": [
    {
     "data": {
      "text/plain": [
       "['Shyam']"
      ]
     },
     "execution_count": 47,
     "metadata": {},
     "output_type": "execute_result"
    }
   ],
   "source": [
    "list1=[\"Ram\",\"Shyam\",\"Sita\",\"Geta\"]\n",
    "def f4(str1):\n",
    "    if len(str1)>4:\n",
    "        return True\n",
    "    else:\n",
    "        return False\n",
    "    \n",
    "list(filter(f4,list1))"
   ]
  },
  {
   "cell_type": "code",
   "execution_count": 48,
   "metadata": {},
   "outputs": [
    {
     "data": {
      "text/plain": [
       "['Jodhpur', 'Jaipur']"
      ]
     },
     "execution_count": 48,
     "metadata": {},
     "output_type": "execute_result"
    }
   ],
   "source": [
    "list1=['Jodhpur','Jaipur','Kota','Bundi']\n",
    "def f5(str1):\n",
    "    return 'pur' in str1\n",
    "list(filter(f5,list1))"
   ]
  },
  {
   "cell_type": "markdown",
   "metadata": {},
   "source": [
    "# use of reduce"
   ]
  },
  {
   "cell_type": "code",
   "execution_count": 49,
   "metadata": {},
   "outputs": [
    {
     "data": {
      "text/plain": [
       "55"
      ]
     },
     "execution_count": 49,
     "metadata": {},
     "output_type": "execute_result"
    }
   ],
   "source": [
    "import functools\n",
    "def f6(x,y):\n",
    "    return (x+y)\n",
    "list1=[1,2,3,4,5,6,7,8,9,10]\n",
    "functools.reduce(f6,list1)"
   ]
  },
  {
   "cell_type": "markdown",
   "metadata": {},
   "source": [
    "# use of zip"
   ]
  },
  {
   "cell_type": "code",
   "execution_count": 50,
   "metadata": {},
   "outputs": [
    {
     "data": {
      "text/plain": [
       "[('Rajasthan', 'Jaipur'),\n",
       " ('MP', 'Bhopal'),\n",
       " ('Gujarat', 'Ahemdabad'),\n",
       " ('Jharkhand', 'Ranchi')]"
      ]
     },
     "execution_count": 50,
     "metadata": {},
     "output_type": "execute_result"
    }
   ],
   "source": [
    "capitals=['Jaipur','Bhopal','Ahemdabad','Ranchi']\n",
    "states=['Rajasthan','MP','Gujarat','Jharkhand']\n",
    "list(zip(states,capitals))"
   ]
  },
  {
   "cell_type": "markdown",
   "metadata": {},
   "source": [
    "# use of enumerate"
   ]
  },
  {
   "cell_type": "code",
   "execution_count": 51,
   "metadata": {},
   "outputs": [
    {
     "name": "stdout",
     "output_type": "stream",
     "text": [
      "10 a\n",
      "11 b\n",
      "12 c\n",
      "13 d\n"
     ]
    }
   ],
   "source": [
    "list1=['a','b','c','d']\n",
    "for index,item in enumerate(list1, start =10):\n",
    "    print(index,item)"
   ]
  },
  {
   "cell_type": "markdown",
   "metadata": {},
   "source": [
    "# use of divmod"
   ]
  },
  {
   "cell_type": "code",
   "execution_count": 52,
   "metadata": {},
   "outputs": [
    {
     "name": "stdout",
     "output_type": "stream",
     "text": [
      "6\n",
      "4\n"
     ]
    }
   ],
   "source": [
    "q,r=divmod(34,5) #unpacking\n",
    "print(q)\n",
    "print(r)"
   ]
  },
  {
   "cell_type": "markdown",
   "metadata": {},
   "source": [
    "# File handling"
   ]
  },
  {
   "cell_type": "code",
   "execution_count": 57,
   "metadata": {},
   "outputs": [
    {
     "name": "stdout",
     "output_type": "stream",
     "text": [
      "fuogg\n",
      "chfgjg\n",
      "\n"
     ]
    }
   ],
   "source": [
    "#reading the data from file\n",
    "f=open(\"F:\\Spyder\\python\\word.txt\",\"r\")\n",
    "print(f.read())\n",
    "f.close()"
   ]
  },
  {
   "cell_type": "code",
   "execution_count": 58,
   "metadata": {},
   "outputs": [
    {
     "name": "stdout",
     "output_type": "stream",
     "text": [
      "fuogg\n",
      "\n"
     ]
    }
   ],
   "source": [
    "# readline\n",
    "f=open(\"F:\\Spyder\\python\\word.txt\",\"r\")\n",
    "str1=f.readline()\n",
    "print(str1)\n",
    "f.close()"
   ]
  },
  {
   "cell_type": "code",
   "execution_count": 60,
   "metadata": {},
   "outputs": [
    {
     "name": "stdout",
     "output_type": "stream",
     "text": [
      "['fuogg\\n', 'chfgjg\\n']\n"
     ]
    }
   ],
   "source": [
    "#readlines\n",
    "f=open(\"F:\\Spyder\\python\\word.txt\",\"r\")\n",
    "str1=f.readlines()\n",
    "print(str1)\n",
    "f.close()"
   ]
  },
  {
   "cell_type": "code",
   "execution_count": 67,
   "metadata": {},
   "outputs": [
    {
     "name": "stdout",
     "output_type": "stream",
     "text": [
      "Kapil \n"
     ]
    }
   ],
   "source": [
    "# write the data in file\n",
    "f=open(\"F:\\Spyder\\python\\word.txt\",\"w\")\n",
    "f.write(\"Kapil \")\n",
    "f.close()\n",
    "f=open(\"F:\\Spyder\\python\\word.txt\",\"r\")\n",
    "print(f.read())\n",
    "f.close()"
   ]
  },
  {
   "cell_type": "code",
   "execution_count": 68,
   "metadata": {},
   "outputs": [
    {
     "name": "stdout",
     "output_type": "stream",
     "text": [
      "Kapil \n",
      "Krishna\n"
     ]
    }
   ],
   "source": [
    "f=open(\"F:\\Spyder\\python\\word.txt\",\"a\")\n",
    "f.write(\"\\nKrishna\")\n",
    "f.close()\n",
    "f=open(\"F:\\Spyder\\python\\word.txt\",\"r\")\n",
    "print(f.read())\n",
    "f.close()"
   ]
  },
  {
   "cell_type": "code",
   "execution_count": 69,
   "metadata": {},
   "outputs": [
    {
     "name": "stdout",
     "output_type": "stream",
     "text": [
      "Kapil \n",
      "Krishna\n",
      "Krishu\n",
      "Komli\n"
     ]
    }
   ],
   "source": [
    "f=open(\"F:\\Spyder\\python\\word.txt\",\"a\")\n",
    "f.writelines(['\\nKrishu','\\nKomli'])\n",
    "f.close()\n",
    "f=open(\"F:\\Spyder\\python\\word.txt\",\"r\")\n",
    "print(f.read())\n",
    "f.close()"
   ]
  },
  {
   "cell_type": "code",
   "execution_count": 71,
   "metadata": {},
   "outputs": [
    {
     "name": "stdout",
     "output_type": "stream",
     "text": [
      "1. Read\n",
      "2.Write\n",
      "3. Append\n",
      "4. exit\n",
      "Enter a no=1\n",
      "Duggu ka Dhakan\n",
      "1. Read\n",
      "2.Write\n",
      "3. Append\n",
      "4. exit\n",
      "Enter a no=2\n",
      "Enter text=Duggu\n",
      "1. Read\n",
      "2.Write\n",
      "3. Append\n",
      "4. exit\n",
      "Enter a no=1\n",
      "Duggu\n",
      "1. Read\n",
      "2.Write\n",
      "3. Append\n",
      "4. exit\n",
      "Enter a no=3\n",
      "Enter text=Dhakan\n",
      "1. Read\n",
      "2.Write\n",
      "3. Append\n",
      "4. exit\n",
      "Enter a no=1\n",
      "DugguDhakan\n",
      "1. Read\n",
      "2.Write\n",
      "3. Append\n",
      "4. exit\n",
      "Enter a no=4\n"
     ]
    }
   ],
   "source": [
    "# make an application that perform read write and append in file\n",
    "c=1\n",
    "while (c==1):\n",
    "    print(\"1. Read\")\n",
    "    print(\"2.Write\")\n",
    "    print(\"3. Append\")\n",
    "    print(\"4. exit\")\n",
    "    a=int(input(\"Enter a no=\"))\n",
    "    b=1\n",
    "    while (b==1):\n",
    "        if(a==1):\n",
    "            p1=open(\"demo.txt\",'r')\n",
    "            print(p1.read())\n",
    "            p1.close()\n",
    "            b=0\n",
    "        if(a==2):\n",
    "            p1=open(\"demo.txt\",'w')\n",
    "            p1.write(input(\"Enter text=\\n\"))\n",
    "            p1.close()\n",
    "            b=0\n",
    "        if(a==3):\n",
    "            p1=open(\"demo.txt\",'a')\n",
    "            p1.write(input(\"Enter text=\\n\"))\n",
    "            p1.close()\n",
    "            b=0\n",
    "        if(a==4):\n",
    "            c=0\n",
    "            b=0"
   ]
  },
  {
   "cell_type": "markdown",
   "metadata": {},
   "source": [
    "# Exception handling"
   ]
  },
  {
   "cell_type": "code",
   "execution_count": 72,
   "metadata": {},
   "outputs": [
    {
     "name": "stdout",
     "output_type": "stream",
     "text": [
      "\n",
      "Exception Handling\n",
      "Enter a no=2\n",
      "Enter a no=0\n",
      "An Error Occourred\n",
      "Due to zero Division\n"
     ]
    }
   ],
   "source": [
    "print(\"\\nException Handling\")\n",
    "try:\n",
    "    num1=int(input(\"Enter a no=\"))\n",
    "    num2=int(input(\"Enter a no=\"))\n",
    "    print(num1/num2)\n",
    "    print(\"Done Calculation\")\n",
    "except ZeroDivisionError:\n",
    "    print(\"An Error Occourred\")\n",
    "    print(\"Due to zero Division\")"
   ]
  },
  {
   "cell_type": "code",
   "execution_count": 74,
   "metadata": {},
   "outputs": [
    {
     "name": "stdout",
     "output_type": "stream",
     "text": [
      "\n",
      "Multiple Different Except\n",
      "Enter a no=4\n",
      "Enter a no=0\n",
      "Divided by zero\n",
      "Final statement will always execute\n"
     ]
    }
   ],
   "source": [
    "#Multiple Different Except\n",
    "print(\"\\nMultiple Different Except\")\n",
    "try:\n",
    "    num3=int(input(\"Enter a no=\"))\n",
    "    num4=int(input(\"Enter a no=\"))\n",
    "    print(num3/num4)\n",
    "    print(num3+\"Kapil\")\n",
    "except ZeroDivisionError:\n",
    "    print(\"Divided by zero\")\n",
    "except (ValueError,TypeError):\n",
    "    print(\"Type Error Occorred\")\n",
    "finally:\n",
    "    print(\"Final statement will always execute\")"
   ]
  },
  {
   "cell_type": "code",
   "execution_count": 79,
   "metadata": {},
   "outputs": [
    {
     "name": "stdout",
     "output_type": "stream",
     "text": [
      "\n",
      "raising Exceotion\n"
     ]
    },
    {
     "ename": "NameError",
     "evalue": "Invalid name",
     "output_type": "error",
     "traceback": [
      "\u001b[1;31m---------------------------------------------------------------------------\u001b[0m",
      "\u001b[1;31mNameError\u001b[0m                                 Traceback (most recent call last)",
      "\u001b[1;32m<ipython-input-79-f0db74f7eaa7>\u001b[0m in \u001b[0;36m<module>\u001b[1;34m\u001b[0m\n\u001b[0;32m      2\u001b[0m \u001b[0mprint\u001b[0m\u001b[1;33m(\u001b[0m\u001b[1;34m\"\\nraising Exceotion\"\u001b[0m\u001b[1;33m)\u001b[0m\u001b[1;33m\u001b[0m\u001b[1;33m\u001b[0m\u001b[0m\n\u001b[0;32m      3\u001b[0m \u001b[0mname\u001b[0m\u001b[1;33m=\u001b[0m\u001b[1;34m\"123\"\u001b[0m\u001b[1;33m\u001b[0m\u001b[1;33m\u001b[0m\u001b[0m\n\u001b[1;32m----> 4\u001b[1;33m \u001b[1;32mraise\u001b[0m \u001b[0mNameError\u001b[0m\u001b[1;33m(\u001b[0m\u001b[1;34m\"Invalid name\"\u001b[0m\u001b[1;33m)\u001b[0m\u001b[1;33m\u001b[0m\u001b[1;33m\u001b[0m\u001b[0m\n\u001b[0m",
      "\u001b[1;31mNameError\u001b[0m: Invalid name"
     ]
    }
   ],
   "source": [
    "#raising Exceotion\n",
    "print(\"\\nraising Exceotion\")\n",
    "name=\"123\"\n",
    "raise NameError(\"Invalid name\")"
   ]
  },
  {
   "cell_type": "code",
   "execution_count": 80,
   "metadata": {},
   "outputs": [
    {
     "name": "stdout",
     "output_type": "stream",
     "text": [
      "Enter a no=4\n",
      "Enter a no=0\n"
     ]
    },
    {
     "ename": "ZeroDivisionError",
     "evalue": "division by zero",
     "output_type": "error",
     "traceback": [
      "\u001b[1;31m---------------------------------------------------------------------------\u001b[0m",
      "\u001b[1;31mZeroDivisionError\u001b[0m                         Traceback (most recent call last)",
      "\u001b[1;32m<ipython-input-80-59fd4f2651e7>\u001b[0m in \u001b[0;36m<module>\u001b[1;34m\u001b[0m\n\u001b[0;32m      3\u001b[0m     \u001b[0mnum5\u001b[0m\u001b[1;33m=\u001b[0m\u001b[0mint\u001b[0m\u001b[1;33m(\u001b[0m\u001b[0minput\u001b[0m\u001b[1;33m(\u001b[0m\u001b[1;34m\"Enter a no=\"\u001b[0m\u001b[1;33m)\u001b[0m\u001b[1;33m)\u001b[0m\u001b[1;33m\u001b[0m\u001b[1;33m\u001b[0m\u001b[0m\n\u001b[0;32m      4\u001b[0m     \u001b[0mnum6\u001b[0m\u001b[1;33m=\u001b[0m\u001b[0mint\u001b[0m\u001b[1;33m(\u001b[0m\u001b[0minput\u001b[0m\u001b[1;33m(\u001b[0m\u001b[1;34m\"Enter a no=\"\u001b[0m\u001b[1;33m)\u001b[0m\u001b[1;33m)\u001b[0m\u001b[1;33m\u001b[0m\u001b[1;33m\u001b[0m\u001b[0m\n\u001b[1;32m----> 5\u001b[1;33m     \u001b[0mprint\u001b[0m\u001b[1;33m(\u001b[0m\u001b[0mnum5\u001b[0m\u001b[1;33m/\u001b[0m\u001b[0mnum6\u001b[0m\u001b[1;33m)\u001b[0m\u001b[1;33m\u001b[0m\u001b[1;33m\u001b[0m\u001b[0m\n\u001b[0m\u001b[0;32m      6\u001b[0m \u001b[1;32mexcept\u001b[0m\u001b[1;33m:\u001b[0m\u001b[1;33m\u001b[0m\u001b[1;33m\u001b[0m\u001b[0m\n\u001b[0;32m      7\u001b[0m     \u001b[1;32mraise\u001b[0m\u001b[1;33m\u001b[0m\u001b[1;33m\u001b[0m\u001b[0m\n",
      "\u001b[1;31mZeroDivisionError\u001b[0m: division by zero"
     ]
    }
   ],
   "source": [
    "#raising Exceotion\n",
    "try:\n",
    "    num5=int(input(\"Enter a no=\"))\n",
    "    num6=int(input(\"Enter a no=\"))\n",
    "    print(num5/num6)\n",
    "except:\n",
    "    raise"
   ]
  },
  {
   "cell_type": "markdown",
   "metadata": {},
   "source": [
    "# Classes and object"
   ]
  },
  {
   "cell_type": "code",
   "execution_count": 13,
   "metadata": {},
   "outputs": [
    {
     "name": "stdout",
     "output_type": "stream",
     "text": [
      "5\n"
     ]
    }
   ],
   "source": [
    "#create class\n",
    "class myclass:\n",
    "    x=5\n",
    "p1=myclass() #create object of a class\n",
    "print(p1.x) #excess the content of the class"
   ]
  },
  {
   "cell_type": "code",
   "execution_count": 22,
   "metadata": {},
   "outputs": [
    {
     "name": "stdout",
     "output_type": "stream",
     "text": [
      "Name is rohan and salry is 10000\n"
     ]
    }
   ],
   "source": [
    "#self\n",
    "class Employee:\n",
    "    def Personinfo(self):\n",
    "        return f\"Name is {self.name} and salry is {self.salary}\"\n",
    "rohan=Employee()\n",
    "rohan.name=\"rohan\"\n",
    "rohan.salary=10000\n",
    "print(rohan.Personinfo())"
   ]
  },
  {
   "cell_type": "code",
   "execution_count": 24,
   "metadata": {},
   "outputs": [
    {
     "name": "stdout",
     "output_type": "stream",
     "text": [
      "Kapil\n",
      "20\n"
     ]
    }
   ],
   "source": [
    "#init function is use to create obj in class function(constructor)\n",
    "class Person:\n",
    "    def __init__(self,name,age):\n",
    "        self.name=name\n",
    "        self.age=age\n",
    "p1=Person(\"Kapil\",20)\n",
    "print(p1.name)\n",
    "print(p1.age)"
   ]
  },
  {
   "cell_type": "code",
   "execution_count": 25,
   "metadata": {},
   "outputs": [
    {
     "name": "stdout",
     "output_type": "stream",
     "text": [
      "Hello my name is Kapil\n"
     ]
    }
   ],
   "source": [
    "#self is used to call the self function in class\n",
    "class Person:\n",
    "    def __init__(self,name,age):\n",
    "        self.name=name\n",
    "        self.age=age\n",
    "    def func1(self):\n",
    "        print(\"Hello my name is \"+self.name)\n",
    "p1=Person(\"Kapil\",20)\n",
    "p1.func1()"
   ]
  },
  {
   "cell_type": "code",
   "execution_count": 26,
   "metadata": {},
   "outputs": [
    {
     "name": "stdout",
     "output_type": "stream",
     "text": [
      "Hello my name is Kapil\n"
     ]
    }
   ],
   "source": [
    "#Does not need self we can excess object from another name also\n",
    "class Person:\n",
    "    def __init__(mysillyobject,name,age):\n",
    "        mysillyobject.name=name\n",
    "        mysillyobject.age=age\n",
    "    def func1(abc):\n",
    "        print(\"Hello my name is \"+abc.name)\n",
    "p1=Person(\"Kapil\",20)\n",
    "p1.func1()"
   ]
  },
  {
   "cell_type": "code",
   "execution_count": 27,
   "metadata": {},
   "outputs": [
    {
     "data": {
      "text/plain": [
       "40"
      ]
     },
     "execution_count": 27,
     "metadata": {},
     "output_type": "execute_result"
    }
   ],
   "source": [
    "#we can modify the variable of class\n",
    "p1.age=40\n",
    "p1.age"
   ]
  },
  {
   "cell_type": "code",
   "execution_count": 28,
   "metadata": {},
   "outputs": [],
   "source": [
    "#we can delete the age propert from clas\n",
    "del p1.age"
   ]
  },
  {
   "cell_type": "code",
   "execution_count": 29,
   "metadata": {},
   "outputs": [],
   "source": [
    "#we can delete the object\n",
    "del p1"
   ]
  },
  {
   "cell_type": "code",
   "execution_count": 30,
   "metadata": {},
   "outputs": [
    {
     "name": "stdout",
     "output_type": "stream",
     "text": [
      "1000000\n"
     ]
    }
   ],
   "source": [
    "class car():\n",
    "    pass\n",
    "honda=car()\n",
    "tata=car()\n",
    "honda.modelname=\"city\"\n",
    "honda.yearm=2017\n",
    "honda.price=1000000\n",
    "\n",
    "tata.modelname=\"Bolt\"\n",
    "tata.yearm=2016\n",
    "tata.price=600000\n",
    "\n",
    "print(honda.price)"
   ]
  },
  {
   "cell_type": "code",
   "execution_count": 31,
   "metadata": {},
   "outputs": [
    {
     "name": "stdout",
     "output_type": "stream",
     "text": [
      "1000000\n",
      "{'modelname': 'city', 'yearm': 2017, 'price': 1000000, 'cc': 1500}\n",
      "{'modelname': 'Bolt', 'yearm': 2016, 'price': 600000}\n"
     ]
    }
   ],
   "source": [
    "class car():\n",
    "    def __init__(self,modelname,yearm,price):\n",
    "        self.modelname=modelname\n",
    "        self.yearm=yearm\n",
    "        self.price=price\n",
    "honda=car(\"city\",2017,1000000)\n",
    "tata=car(\"Bolt\",2016,600000)\n",
    "\n",
    "honda.cc=1500\n",
    "\n",
    "print(honda.price)\n",
    "print(honda.__dict__)\n",
    "print(tata.__dict__)"
   ]
  },
  {
   "cell_type": "code",
   "execution_count": 17,
   "metadata": {},
   "outputs": [
    {
     "name": "stdout",
     "output_type": "stream",
     "text": [
      "1000000\n",
      "1150000\n"
     ]
    }
   ],
   "source": [
    "class car():\n",
    "    def __init__(self,modelname,yearm,price):\n",
    "        self.modelname=modelname\n",
    "        self.yearm=yearm\n",
    "        self.price=price\n",
    "    def price_inc(self):\n",
    "        self.price=int(self.price*1.15)\n",
    "honda=car(\"city\",2017,1000000)\n",
    "tata=car(\"Bolt\",2016,600000)\n",
    "\n",
    "honda.cc=1500\n",
    "\n",
    "print(honda.price)\n",
    "honda.price_inc()\n",
    "print(honda.price)"
   ]
  },
  {
   "cell_type": "code",
   "execution_count": 18,
   "metadata": {},
   "outputs": [
    {
     "name": "stdout",
     "output_type": "stream",
     "text": [
      "2017\n",
      "1150000\n"
     ]
    }
   ],
   "source": [
    "class Supercar(car):\n",
    "    pass\n",
    "honda=Supercar(\"city\",2017,1000000)\n",
    "tata=car(\"Bolt\",2016,600000)\n",
    "\n",
    "honda.cc=1500\n",
    "\n",
    "print(honda.yearm)\n",
    "honda.price_inc()\n",
    "print(honda.price)"
   ]
  },
  {
   "cell_type": "code",
   "execution_count": 11,
   "metadata": {},
   "outputs": [
    {
     "name": "stdout",
     "output_type": "stream",
     "text": [
      "Help on Supercar in module __main__ object:\n",
      "\n",
      "class Supercar(car)\n",
      " |  Supercar(modelname, yearm, price)\n",
      " |  \n",
      " |  Method resolution order:\n",
      " |      Supercar\n",
      " |      car\n",
      " |      builtins.object\n",
      " |  \n",
      " |  Methods inherited from car:\n",
      " |  \n",
      " |  __init__(self, modelname, yearm, price)\n",
      " |      Initialize self.  See help(type(self)) for accurate signature.\n",
      " |  \n",
      " |  price_inc(self)\n",
      " |  \n",
      " |  ----------------------------------------------------------------------\n",
      " |  Data descriptors inherited from car:\n",
      " |  \n",
      " |  __dict__\n",
      " |      dictionary for instance variables (if defined)\n",
      " |  \n",
      " |  __weakref__\n",
      " |      list of weak references to the object (if defined)\n",
      "\n",
      "None\n"
     ]
    }
   ],
   "source": [
    "print(help(honda))"
   ]
  },
  {
   "cell_type": "markdown",
   "metadata": {},
   "source": [
    "# class method"
   ]
  },
  {
   "cell_type": "code",
   "execution_count": 2,
   "metadata": {},
   "outputs": [
    {
     "name": "stdout",
     "output_type": "stream",
     "text": [
      "my name is Sohan and my salary is 100000\n",
      "34\n"
     ]
    }
   ],
   "source": [
    "class Employee:\n",
    "    no_of_leaves=8\n",
    "    def __init__(self,name,salary):\n",
    "        self.name=name\n",
    "        self.salary=salary\n",
    "    \n",
    "    def Personinfo(self):\n",
    "        return f\"my name is {self.name} and my salary is {self.salary}\"\n",
    "    \n",
    "    @classmethod\n",
    "    def change_leaves(cls,newleaves):\n",
    "        cls.no_of_leaves=newleaves\n",
    "\n",
    "rohan=Employee(\"Rohan\",10000)\n",
    "sohan=Employee(\"Sohan\",100000)\n",
    "print(sohan.Personinfo())\n",
    "rohan.change_leaves(34)\n",
    "print(sohan.no_of_leaves)"
   ]
  },
  {
   "cell_type": "code",
   "execution_count": 5,
   "metadata": {},
   "outputs": [
    {
     "name": "stdout",
     "output_type": "stream",
     "text": [
      "my name is Sohan and my salary is 100000\n",
      "my name is Karan and my salary is 200000\n",
      "34\n"
     ]
    }
   ],
   "source": [
    "class Employee:\n",
    "    no_of_leaves=8\n",
    "    def __init__(self,name,salary):\n",
    "        self.name=name\n",
    "        self.salary=salary\n",
    "    \n",
    "    def Personinfo(self):\n",
    "        return f\"my name is {self.name} and my salary is {self.salary}\"\n",
    "    \n",
    "    @classmethod\n",
    "    def change_leaves(cls,newleaves):\n",
    "        cls.no_of_leaves=newleaves\n",
    "    \n",
    "    @classmethod\n",
    "    def from_str(cls,string):\n",
    "        #param=string.split(\"-\")\n",
    "        #return cls(param[0],param[1])\n",
    "        return cls(*string.split(\"-\"))\n",
    "rohan=Employee(\"Rohan\",10000)\n",
    "sohan=Employee(\"Sohan\",100000)\n",
    "karan=Employee.from_str(\"Karan-200000\")\n",
    "print(sohan.Personinfo())\n",
    "print(karan.Personinfo())\n",
    "rohan.change_leaves(34)\n",
    "print(sohan.no_of_leaves)\n"
   ]
  },
  {
   "cell_type": "markdown",
   "metadata": {},
   "source": [
    "# static method"
   ]
  },
  {
   "cell_type": "code",
   "execution_count": 9,
   "metadata": {},
   "outputs": [
    {
     "name": "stdout",
     "output_type": "stream",
     "text": [
      "my name is Sohan and my salary is 100000\n",
      "my name is Karan and my salary is 200000\n",
      "34\n",
      "This is good Kapil\n"
     ]
    }
   ],
   "source": [
    "class Employee:\n",
    "    no_of_leaves=8\n",
    "    def __init__(self,name,salary):\n",
    "        self.name=name\n",
    "        self.salary=salary\n",
    "    \n",
    "    def Personinfo(self):\n",
    "        return f\"my name is {self.name} and my salary is {self.salary}\"\n",
    "    \n",
    "    @classmethod\n",
    "    def change_leaves(cls,newleaves):\n",
    "        cls.no_of_leaves=newleaves\n",
    "    \n",
    "    @classmethod\n",
    "    def from_str(cls,string):\n",
    "        return cls(*string.split(\"-\"))\n",
    "    \n",
    "    @staticmethod\n",
    "    def printgood(string):\n",
    "        return \"This is good \"+ string\n",
    "\n",
    "rohan=Employee(\"Rohan\",10000)\n",
    "sohan=Employee(\"Sohan\",100000)\n",
    "karan=Employee.from_str(\"Karan-200000\")\n",
    "print(sohan.Personinfo())\n",
    "print(karan.Personinfo())\n",
    "rohan.change_leaves(34)\n",
    "print(sohan.no_of_leaves)\n",
    "\n",
    "print(karan.printgood(\"Kapil\"))"
   ]
  },
  {
   "cell_type": "code",
   "execution_count": 18,
   "metadata": {},
   "outputs": [
    {
     "name": "stdout",
     "output_type": "stream",
     "text": [
      "python edureka 23\n"
     ]
    }
   ],
   "source": [
    "class parent:\n",
    "    def __init__(self,fname,fage):\n",
    "        self.fname=fname\n",
    "        self.fage=fage\n",
    "    def view(self):\n",
    "        print(self.fname,self.fage)\n",
    "class child(parent):\n",
    "    def __init__(self,fname,fage):\n",
    "        parent.__init__(self,fname,fage)\n",
    "        self.lastname='edureka'\n",
    "    def view(self):\n",
    "        print(self.fage,self.lastname,self.fname)\n",
    "ob=child(23,'python')\n",
    "ob.view()"
   ]
  },
  {
   "cell_type": "markdown",
   "metadata": {},
   "source": [
    "# Types of inheritence"
   ]
  },
  {
   "cell_type": "markdown",
   "metadata": {},
   "source": [
    "# Single Inheritence"
   ]
  },
  {
   "cell_type": "code",
   "execution_count": 10,
   "metadata": {},
   "outputs": [
    {
     "name": "stdout",
     "output_type": "stream",
     "text": [
      "this is a func1\n"
     ]
    }
   ],
   "source": [
    "class parent:\n",
    "    def func1(self):\n",
    "        print(\"this is a func1\")\n",
    "class child(parent):\n",
    "    def func2(self):\n",
    "        print(\"this is a func2\")\n",
    "ob=child()\n",
    "ob.func1()"
   ]
  },
  {
   "cell_type": "markdown",
   "metadata": {},
   "source": [
    "# Multiple Inheritence"
   ]
  },
  {
   "cell_type": "code",
   "execution_count": 22,
   "metadata": {},
   "outputs": [
    {
     "name": "stdout",
     "output_type": "stream",
     "text": [
      "this is a func1\n",
      "this is a func1\n"
     ]
    }
   ],
   "source": [
    "class parent:\n",
    "    def func1(self):\n",
    "        print(\"this is a func1\")\n",
    "class parent2:\n",
    "    def func3(self):\n",
    "        print(\"this is a func1\")\n",
    "class child(parent,parent2):\n",
    "    def func2(self):\n",
    "        print(\"this is a func2\")\n",
    "ob=child()\n",
    "ob.func1()\n",
    "ob.func3()"
   ]
  },
  {
   "cell_type": "markdown",
   "metadata": {},
   "source": [
    "# Multilevel Inheritence"
   ]
  },
  {
   "cell_type": "code",
   "execution_count": 23,
   "metadata": {},
   "outputs": [
    {
     "name": "stdout",
     "output_type": "stream",
     "text": [
      "this is a func1\n",
      "this is a func1\n"
     ]
    }
   ],
   "source": [
    "class parent:\n",
    "    def func1(self):\n",
    "        print(\"this is a func1\")\n",
    "class parent2(parent):\n",
    "    def func3(self):\n",
    "        print(\"this is a func1\")\n",
    "class child(parent2):\n",
    "    def func2(self):\n",
    "        print(\"this is a func2\")\n",
    "ob=child()\n",
    "ob.func1()\n",
    "ob.func3()"
   ]
  },
  {
   "cell_type": "markdown",
   "metadata": {},
   "source": [
    "# Hirarichal Inheritence"
   ]
  },
  {
   "cell_type": "code",
   "execution_count": 24,
   "metadata": {},
   "outputs": [
    {
     "name": "stdout",
     "output_type": "stream",
     "text": [
      "this is a func1\n",
      "this is a func1\n"
     ]
    }
   ],
   "source": [
    "class parent():\n",
    "    def func1(self):\n",
    "        print(\"this is a func1\")\n",
    "class parent2(parent):\n",
    "    def func3(self):\n",
    "        print(\"this is a func3\")\n",
    "class child(parent):\n",
    "    def func2(self):\n",
    "        print(\"this is a func2\")\n",
    "ob=child()\n",
    "ob1=parent2()\n",
    "ob.func1()\n",
    "ob1.func1()"
   ]
  },
  {
   "cell_type": "markdown",
   "metadata": {},
   "source": [
    "# Hybrid Inheritence"
   ]
  },
  {
   "cell_type": "code",
   "execution_count": 25,
   "metadata": {},
   "outputs": [
    {
     "name": "stdout",
     "output_type": "stream",
     "text": [
      "this is a func1\n",
      "this is a func4\n",
      "this is a func1\n"
     ]
    }
   ],
   "source": [
    "class parent():\n",
    "    def func1(self):\n",
    "        print(\"this is a func1\")\n",
    "class parent2(parent):\n",
    "    def func3(self):\n",
    "        print(\"this is a func3\")\n",
    "class parent3():\n",
    "    def func4(self):\n",
    "        print(\"this is a func4\")\n",
    "class child(parent,parent3):\n",
    "    def func2(self):\n",
    "        print(\"this is a func2\")\n",
    "ob=child()\n",
    "ob1=parent2()\n",
    "ob.func1()\n",
    "ob.func4()\n",
    "ob1.func1()"
   ]
  },
  {
   "cell_type": "markdown",
   "metadata": {},
   "source": [
    "# Public, Private and Protected"
   ]
  },
  {
   "cell_type": "code",
   "execution_count": 35,
   "metadata": {},
   "outputs": [
    {
     "name": "stdout",
     "output_type": "stream",
     "text": [
      "5\n",
      "6\n",
      "7\n"
     ]
    }
   ],
   "source": [
    "class xyz:\n",
    "    a=5    #public\n",
    "    _b=6   #private\n",
    "    __c=7  #protected\n",
    "    \n",
    "ob=xyz()\n",
    "\n",
    "print(ob.a) \n",
    "print(ob._b)\n",
    "print(ob._xyz__c)"
   ]
  },
  {
   "cell_type": "markdown",
   "metadata": {},
   "source": [
    "# SuperClass"
   ]
  },
  {
   "cell_type": "code",
   "execution_count": 27,
   "metadata": {},
   "outputs": [
    {
     "name": "stdout",
     "output_type": "stream",
     "text": [
      "this is a func1\n",
      "this is a func2\n"
     ]
    }
   ],
   "source": [
    "class parent():\n",
    "    def func1(self):\n",
    "        print(\"this is a func1\")\n",
    "class child(parent):\n",
    "    def func2(self):\n",
    "        super().func1()\n",
    "        print(\"this is a func2\")\n",
    "ob= child()\n",
    "ob.func2()\n"
   ]
  },
  {
   "cell_type": "code",
   "execution_count": 65,
   "metadata": {},
   "outputs": [
    {
     "name": "stdout",
     "output_type": "stream",
     "text": [
      "instance variable of a\n"
     ]
    }
   ],
   "source": [
    "class A:\n",
    "    a=\"5\"\n",
    "    def __init__(self):\n",
    "        self.a=\"instance variable of a\"\n",
    "        self.special=\"special\"\n",
    "class B(A):\n",
    "    a=\"6\"\n",
    "    def __init__(self):\n",
    "        self.a=\"insatance variable of b\"\n",
    "        super().__init__()\n",
    "ob=B()\n",
    "print(ob.a)\n"
   ]
  },
  {
   "cell_type": "markdown",
   "metadata": {},
   "source": [
    "# Method Overriding"
   ]
  },
  {
   "cell_type": "code",
   "execution_count": 28,
   "metadata": {},
   "outputs": [
    {
     "name": "stdout",
     "output_type": "stream",
     "text": [
      "this is a func2\n"
     ]
    }
   ],
   "source": [
    "class parent():\n",
    "    def func1(self):\n",
    "        print(\"this is a func1\")\n",
    "class child(parent):\n",
    "    def func1(self):\n",
    "        print(\"this is a func2\")\n",
    "ob= child()\n",
    "ob.func1()"
   ]
  },
  {
   "cell_type": "markdown",
   "metadata": {},
   "source": [
    "# Global variable and global keyword"
   ]
  },
  {
   "cell_type": "code",
   "execution_count": 1,
   "metadata": {},
   "outputs": [
    {
     "name": "stdout",
     "output_type": "stream",
     "text": [
      "10 10\n",
      "20\n"
     ]
    }
   ],
   "source": [
    "l=10 #global variable\n",
    "def func1():\n",
    "    m=10 #local variable\n",
    "    print(l,m)\n",
    "\n",
    "def func2():\n",
    "    global l #global keyword is used for changes in globalvalue\n",
    "    l=l+10\n",
    "    print(l)\n",
    "func1()\n",
    "func2()"
   ]
  },
  {
   "cell_type": "markdown",
   "metadata": {},
   "source": [
    "# Recursion "
   ]
  },
  {
   "cell_type": "code",
   "execution_count": 2,
   "metadata": {},
   "outputs": [
    {
     "name": "stdout",
     "output_type": "stream",
     "text": [
      "Enter a no:5\n"
     ]
    },
    {
     "data": {
      "text/plain": [
       "120"
      ]
     },
     "execution_count": 2,
     "metadata": {},
     "output_type": "execute_result"
    }
   ],
   "source": [
    "#factorial\n",
    "def factorial(n):\n",
    "    if n==1:\n",
    "        return 1\n",
    "    else:\n",
    "        return n * factorial(n-1)\n",
    "n=int(input(\"Enter a no:\"))\n",
    "factorial(n)"
   ]
  },
  {
   "cell_type": "code",
   "execution_count": 6,
   "metadata": {},
   "outputs": [
    {
     "name": "stdout",
     "output_type": "stream",
     "text": [
      "Enter a no:6\n"
     ]
    },
    {
     "data": {
      "text/plain": [
       "5"
      ]
     },
     "execution_count": 6,
     "metadata": {},
     "output_type": "execute_result"
    }
   ],
   "source": [
    "#Fabnoncial series\n",
    "def fabnoncial(n):\n",
    "    if n==1:\n",
    "        return 0\n",
    "    elif n==2:\n",
    "        return 1\n",
    "    else:\n",
    "        return fabnoncial(n-1)+fabnoncial(n-2) \n",
    "n=int(input(\"Enter a no:\"))\n",
    "fabnoncial(n)"
   ]
  },
  {
   "cell_type": "markdown",
   "metadata": {},
   "source": [
    "# random"
   ]
  },
  {
   "cell_type": "code",
   "execution_count": 1,
   "metadata": {},
   "outputs": [
    {
     "name": "stdout",
     "output_type": "stream",
     "text": [
      "0\n"
     ]
    }
   ],
   "source": [
    "import random\n",
    "ran=random.randint(0,1) #it tskes any no from 0 and 1\n",
    "print(ran)"
   ]
  },
  {
   "cell_type": "code",
   "execution_count": 3,
   "metadata": {},
   "outputs": [
    {
     "name": "stdout",
     "output_type": "stream",
     "text": [
      "28.310894019676592\n"
     ]
    }
   ],
   "source": [
    "rand=random.random()*100 #it takes any no upto 100\n",
    "print(rand)"
   ]
  },
  {
   "cell_type": "code",
   "execution_count": 5,
   "metadata": {},
   "outputs": [
    {
     "name": "stdout",
     "output_type": "stream",
     "text": [
      "ddi\n"
     ]
    }
   ],
   "source": [
    "lst=[\"star plus\",\"ddi\",\"aaj tak\"]\n",
    "choice=random.choice(lst)\n",
    "print(choice)"
   ]
  },
  {
   "cell_type": "markdown",
   "metadata": {},
   "source": [
    "# F string"
   ]
  },
  {
   "cell_type": "code",
   "execution_count": 6,
   "metadata": {},
   "outputs": [
    {
     "name": "stdout",
     "output_type": "stream",
     "text": [
      "this is harry\n"
     ]
    }
   ],
   "source": [
    "me=\"harry\"\n",
    "a= \"this is %s\"%me\n",
    "print(a)"
   ]
  },
  {
   "cell_type": "code",
   "execution_count": 7,
   "metadata": {},
   "outputs": [
    {
     "name": "stdout",
     "output_type": "stream",
     "text": [
      "a is 1 and b is 2\n"
     ]
    }
   ],
   "source": [
    "a=1\n",
    "b=2\n",
    "print(\"a is {} and b is {}\".format(a,b))"
   ]
  },
  {
   "cell_type": "code",
   "execution_count": 9,
   "metadata": {},
   "outputs": [
    {
     "name": "stdout",
     "output_type": "stream",
     "text": [
      "a is 1 and b is 2 their sum is 3\n"
     ]
    }
   ],
   "source": [
    "fstr= f\"a is {a} and b is {b} their sum is {a+b}\" #it prints directly value by variable \n",
    "print(fstr)"
   ]
  },
  {
   "cell_type": "markdown",
   "metadata": {},
   "source": [
    "# Args and Kwargs"
   ]
  },
  {
   "cell_type": "code",
   "execution_count": 13,
   "metadata": {},
   "outputs": [
    {
     "name": "stdout",
     "output_type": "stream",
     "text": [
      "I am a normal argument and the student are:\n",
      "Harry\n",
      "Rohan\n",
      "Kapil\n",
      "hameed\n",
      "\n",
      " some more names\n",
      "vansh piyu\n"
     ]
    }
   ],
   "source": [
    "def funargs(normal, *args, **kwargs):    \n",
    "    print(normal)\n",
    "    for item in args:\n",
    "        print(item)    #args is used for adding more names\n",
    "    print(\"\\n some more names\")\n",
    "    for key,value in kwargs.items():       #kwargs can be used after the args for more names in functon\n",
    "        print(key,value)\n",
    "normal= \"I am a normal argument and the student are:\"\n",
    "har=[\"Harry\",\"Rohan\",\"Kapil\",\"hameed\"]\n",
    "kr={\"vansh\":\"piyu\"}\n",
    "funargs(normal,*har,**kr)\n"
   ]
  },
  {
   "cell_type": "markdown",
   "metadata": {},
   "source": [
    "# Time module"
   ]
  },
  {
   "cell_type": "code",
   "execution_count": 14,
   "metadata": {},
   "outputs": [
    {
     "name": "stdout",
     "output_type": "stream",
     "text": [
      "This is while loop\n",
      "This is while loop\n",
      "This is while loop\n",
      "This is while loop\n",
      "This is while loop\n",
      "While loop run in  0.0009481906890869141 Seconds\n",
      "This is for loop\n",
      "This is for loop\n",
      "This is for loop\n",
      "This is for loop\n",
      "This is for loop\n",
      "for loop run in  0.0009751319885253906 Seconds\n"
     ]
    }
   ],
   "source": [
    "import time\n",
    "initial=time.time()\n",
    "i=1\n",
    "while i<=5:\n",
    "    print(\"This is while loop\")\n",
    "    i=i+1\n",
    "print(\"While loop run in \",time.time()-initial,\"Seconds\")\n",
    "initial2=time.time()\n",
    "for k in range(5):\n",
    "    print(\"This is for loop\")\n",
    "    k=k+1\n",
    "print(\"for loop run in \",time.time()-initial2,\"Seconds\")"
   ]
  },
  {
   "cell_type": "code",
   "execution_count": 19,
   "metadata": {},
   "outputs": [
    {
     "name": "stdout",
     "output_type": "stream",
     "text": [
      "Sat Mar 28 15:08:05 2020\n",
      "Sat Mar 28 15:08:05 2020\n"
     ]
    }
   ],
   "source": [
    "localtime=time.asctime(time.localtime(time.time()))     #asctime->changing the tupple value of local time in understanding format\n",
    "print(localtime)\n",
    "time.sleep(2)\n",
    "print(localtime)"
   ]
  },
  {
   "cell_type": "markdown",
   "metadata": {},
   "source": [
    "# __name__ ==__main__"
   ]
  },
  {
   "cell_type": "code",
   "execution_count": 3,
   "metadata": {},
   "outputs": [
    {
     "name": "stdout",
     "output_type": "stream",
     "text": [
      "8\n"
     ]
    }
   ],
   "source": [
    "def add(a,b):\n",
    "    print(a+b)\n",
    "if __name__=='__main__':\n",
    "    a=5\n",
    "    b=3\n",
    "    add(a,b)\n"
   ]
  },
  {
   "cell_type": "markdown",
   "metadata": {},
   "source": [
    "# Decorator"
   ]
  },
  {
   "cell_type": "code",
   "execution_count": 5,
   "metadata": {},
   "outputs": [
    {
     "name": "stdout",
     "output_type": "stream",
     "text": [
      "Executing now\n",
      "Kapil is a good boy\n",
      "Executed\n",
      "None\n"
     ]
    }
   ],
   "source": [
    "def dec1(func1):\n",
    "    def nowexec():\n",
    "        print(\"Executing now\")\n",
    "        func1()\n",
    "        print(\"Executed\")\n",
    "    return nowexec()\n",
    "\n",
    "def who_is_kapil():\n",
    "    print(\"Kapil is a good boy\")\n",
    "    \n",
    "who_is_kapil=dec1(who_is_kapil)\n",
    "print(who_is_kapil)"
   ]
  },
  {
   "cell_type": "code",
   "execution_count": 12,
   "metadata": {},
   "outputs": [
    {
     "name": "stdout",
     "output_type": "stream",
     "text": [
      "Executing now\n",
      "Kapil is a good boy\n",
      "Executed\n"
     ]
    }
   ],
   "source": [
    "def dec1(func1):\n",
    "    def nowexec():\n",
    "        print(\"Executing now\")\n",
    "        func1()\n",
    "        print(\"Executed\")\n",
    "    return nowexec()\n",
    "@dec1\n",
    "def who_is_kapil():\n",
    "    print(\"Kapil is a good boy\")\n",
    "\n",
    "who_is_kapil"
   ]
  },
  {
   "cell_type": "markdown",
   "metadata": {},
   "source": [
    "# Operator overloading and dunder method"
   ]
  },
  {
   "cell_type": "code",
   "execution_count": 75,
   "metadata": {},
   "outputs": [
    {
     "name": "stdout",
     "output_type": "stream",
     "text": [
      "10100\n",
      "100.0\n",
      "my name is kapil and my salary is 10000\n",
      "Employee('kapil',10000)\n"
     ]
    }
   ],
   "source": [
    "#methods operating in function\n",
    "class Employee:\n",
    "    no_of_leaves=8\n",
    "    def __init__(self,name,salary):\n",
    "        self.name=name\n",
    "        self.salary=salary\n",
    "    \n",
    "    def Personinfo(self):\n",
    "        return f\"my name is {self.name} and my salary is {self.salary}\"\n",
    "    \n",
    "    @classmethod\n",
    "    def change_leaves(cls,newleaves):\n",
    "        cls.no_of_leaves=newleaves\n",
    "    \n",
    "    @classmethod\n",
    "    def from_str(cls,string):\n",
    "        return cls(*string.split(\"-\"))\n",
    "    \n",
    "    @staticmethod\n",
    "    def printgood(string):\n",
    "        return \"This is good \"+ string\n",
    "    \n",
    "    def __add__(self,other):                        #Dunder method(used for operator overloading)\n",
    "        return self.salary+other.salary\n",
    "    \n",
    "    def __truediv__(self,other):\n",
    "        return self.salary/other.salary\n",
    "    \n",
    "    def __str__(self):\n",
    "        return f\"my name is {self.name} and my salary is {self.salary}\"\n",
    "    \n",
    "    def __repr__(self):\n",
    "        return f\"Employee('{self.name}',{self.salary})\"\n",
    "    \n",
    "emp1=Employee(\"kapil\",10000)\n",
    "emp2=Employee(\"sumit\",100)\n",
    "print(emp1+emp2)\n",
    "print(emp1/emp2)\n",
    "print(emp1)\n",
    "print(repr(emp1))"
   ]
  },
  {
   "cell_type": "markdown",
   "metadata": {},
   "source": [
    "# Abstract base method"
   ]
  },
  {
   "cell_type": "code",
   "execution_count": 83,
   "metadata": {},
   "outputs": [
    {
     "name": "stdout",
     "output_type": "stream",
     "text": [
      "42\n"
     ]
    }
   ],
   "source": [
    "#it bond the particular function is neccessary to use in class\n",
    "from abc import ABC,abstractmethod\n",
    "class Shape(ABC):   #we can not create objects of abstract class\n",
    "    @abstractmethod\n",
    "    def printarea(self):\n",
    "        return 0\n",
    "\n",
    "class Rectangle(Shape):\n",
    "    type=\"Rectangle\"\n",
    "    side=4\n",
    "    def __init__(self):\n",
    "        self.length=6\n",
    "        self.breadth=7\n",
    "    def printarea(self):\n",
    "        return self.length*self.breadth\n",
    "rect1=Rectangle()\n",
    "print(rect1.printarea())"
   ]
  },
  {
   "cell_type": "markdown",
   "metadata": {},
   "source": [
    "# Setters and property of decorator"
   ]
  },
  {
   "cell_type": "code",
   "execution_count": 87,
   "metadata": {},
   "outputs": [
    {
     "name": "stdout",
     "output_type": "stream",
     "text": [
      "This employee is Kapil Mundra\n",
      "Kapil67@gmail.com\n",
      "This employee is Keshav Mundra\n",
      "Kapil67@gmail.com\n"
     ]
    }
   ],
   "source": [
    "class Employee:\n",
    "    def __init__(self,fname,lname):\n",
    "        self.fname=fname\n",
    "        self.lname=lname\n",
    "        self.email=f\"{fname}67@gmail.com\"\n",
    "        \n",
    "    def explain(self):\n",
    "        return f\"This employee is {self.fname} {self.lname}\"\n",
    "    \n",
    "a=Employee(\"Kapil\",\"Mundra\")\n",
    "print(a.explain())\n",
    "print(a.email)\n",
    "a.fname=\"Keshav\"\n",
    "print(a.explain())\n",
    "print(a.email)      #it does not change the email address after changing the name\n"
   ]
  },
  {
   "cell_type": "code",
   "execution_count": 90,
   "metadata": {},
   "outputs": [
    {
     "name": "stdout",
     "output_type": "stream",
     "text": [
      "This employee is Kapil Mundra\n",
      "Kapil67@gmail.com\n",
      "This employee is Keshav Mundra\n",
      "Keshav67@gmail.com\n"
     ]
    }
   ],
   "source": [
    "class Employee:\n",
    "    def __init__(self,fname,lname):\n",
    "        self.fname=fname\n",
    "        self.lname=lname\n",
    "        \n",
    "    def explain(self):\n",
    "        return f\"This employee is {self.fname} {self.lname}\"\n",
    "    \n",
    "    def email(self):\n",
    "        return f\"{self.fname}67@gmail.com\"\n",
    "    \n",
    "a=Employee(\"Kapil\",\"Mundra\")\n",
    "print(a.explain())\n",
    "print(a.email())\n",
    "a.fname=\"Keshav\"\n",
    "print(a.explain())\n",
    "print(a.email())      #now it change the email address after changing the name\n"
   ]
  },
  {
   "cell_type": "code",
   "execution_count": 91,
   "metadata": {},
   "outputs": [
    {
     "name": "stdout",
     "output_type": "stream",
     "text": [
      "This employee is Kapil Mundra\n",
      "Kapil67@gmail.com\n",
      "This employee is Keshav Mundra\n",
      "Keshav67@gmail.com\n"
     ]
    }
   ],
   "source": [
    "class Employee:\n",
    "    def __init__(self,fname,lname):\n",
    "        self.fname=fname\n",
    "        self.lname=lname\n",
    "        \n",
    "    def explain(self):\n",
    "        return f\"This employee is {self.fname} {self.lname}\"\n",
    "    \n",
    "    @property\n",
    "    def email(self):\n",
    "        return f\"{self.fname}67@gmail.com\"\n",
    "    \n",
    "a=Employee(\"Kapil\",\"Mundra\")\n",
    "print(a.explain())\n",
    "print(a.email)\n",
    "a.fname=\"Keshav\"\n",
    "print(a.explain())\n",
    "print(a.email)      #now it change the email address after changing the name\n"
   ]
  },
  {
   "cell_type": "code",
   "execution_count": 99,
   "metadata": {},
   "outputs": [
    {
     "name": "stdout",
     "output_type": "stream",
     "text": [
      "This employee is Kapil Mundra\n",
      "Kapil@gmail.com\n",
      "This employee is Keshav Mundra\n",
      "Keshav@gmail.com\n",
      "krishna@gmail.com\n",
      "krishna\n",
      "Email is not set\n"
     ]
    }
   ],
   "source": [
    "class Employee:\n",
    "    def __init__(self,fname,lname):\n",
    "        self.fname=fname\n",
    "        self.lname=lname\n",
    "        #self.email=f\"{fname}@gmail.com\"\n",
    "        \n",
    "    def explain(self):\n",
    "        return f\"This employee is {self.fname} {self.lname}\"\n",
    "    \n",
    "    @property #without using () we can use email func\n",
    "    def email(self):     #change the name of email while changing the fname\n",
    "        if self.fname==None:\n",
    "            return \"Email is not set\"\n",
    "        return f\"{self.fname}@gmail.com\"\n",
    "    \n",
    "    @email.setter #while changing the email fname is changed\n",
    "    def email(self,string):\n",
    "        name=string.split(\"@\")[0]\n",
    "        self.fname=name\n",
    "    \n",
    "    @email.deleter #for deleting the email \n",
    "    def email(self):\n",
    "        self.fname=None\n",
    "        \n",
    "a=Employee(\"Kapil\",\"Mundra\")\n",
    "print(a.explain())\n",
    "print(a.email)\n",
    "a.fname=\"Keshav\"\n",
    "print(a.explain())\n",
    "print(a.email)      \n",
    "a.email=\"krishna@gmail.com\"\n",
    "print(a.email)\n",
    "print(a.fname)\n",
    "\n",
    "del a.email\n",
    "print(a.email)"
   ]
  },
  {
   "cell_type": "markdown",
   "metadata": {},
   "source": [
    "# object introspection"
   ]
  },
  {
   "cell_type": "code",
   "execution_count": 102,
   "metadata": {},
   "outputs": [
    {
     "name": "stdout",
     "output_type": "stream",
     "text": [
      "skill@gmail.com\n",
      "\n",
      "\n",
      "<class '__main__.Employee'>\n",
      "3068748284480\n",
      "['__class__', '__delattr__', '__dict__', '__dir__', '__doc__', '__eq__', '__format__', '__ge__', '__getattribute__', '__gt__', '__hash__', '__init__', '__init_subclass__', '__le__', '__lt__', '__module__', '__ne__', '__new__', '__reduce__', '__reduce_ex__', '__repr__', '__setattr__', '__sizeof__', '__str__', '__subclasshook__', '__weakref__', 'email', 'explain', 'fname', 'lname']\n",
      "[('__class__', <class '__main__.Employee'>), ('__delattr__', <method-wrapper '__delattr__' of Employee object at 0x000002CA7FA6C240>), ('__dict__', {'fname': 'skill', 'lname': 'f'}), ('__dir__', <built-in method __dir__ of Employee object at 0x000002CA7FA6C240>), ('__doc__', None), ('__eq__', <method-wrapper '__eq__' of Employee object at 0x000002CA7FA6C240>), ('__format__', <built-in method __format__ of Employee object at 0x000002CA7FA6C240>), ('__ge__', <method-wrapper '__ge__' of Employee object at 0x000002CA7FA6C240>), ('__getattribute__', <method-wrapper '__getattribute__' of Employee object at 0x000002CA7FA6C240>), ('__gt__', <method-wrapper '__gt__' of Employee object at 0x000002CA7FA6C240>), ('__hash__', <method-wrapper '__hash__' of Employee object at 0x000002CA7FA6C240>), ('__init__', <bound method Employee.__init__ of <__main__.Employee object at 0x000002CA7FA6C240>>), ('__init_subclass__', <built-in method __init_subclass__ of type object at 0x000002CA7BEB8AB8>), ('__le__', <method-wrapper '__le__' of Employee object at 0x000002CA7FA6C240>), ('__lt__', <method-wrapper '__lt__' of Employee object at 0x000002CA7FA6C240>), ('__module__', '__main__'), ('__ne__', <method-wrapper '__ne__' of Employee object at 0x000002CA7FA6C240>), ('__new__', <built-in method __new__ of type object at 0x00007FFEE0C36D30>), ('__reduce__', <built-in method __reduce__ of Employee object at 0x000002CA7FA6C240>), ('__reduce_ex__', <built-in method __reduce_ex__ of Employee object at 0x000002CA7FA6C240>), ('__repr__', <method-wrapper '__repr__' of Employee object at 0x000002CA7FA6C240>), ('__setattr__', <method-wrapper '__setattr__' of Employee object at 0x000002CA7FA6C240>), ('__sizeof__', <built-in method __sizeof__ of Employee object at 0x000002CA7FA6C240>), ('__str__', <method-wrapper '__str__' of Employee object at 0x000002CA7FA6C240>), ('__subclasshook__', <built-in method __subclasshook__ of type object at 0x000002CA7BEB8AB8>), ('__weakref__', None), ('email', 'skill@gmail.com'), ('explain', <bound method Employee.explain of <__main__.Employee object at 0x000002CA7FA6C240>>), ('fname', 'skill'), ('lname', 'f')]\n"
     ]
    }
   ],
   "source": [
    "class Employee:\n",
    "    def __init__(self,fname,lname):\n",
    "        self.fname=fname\n",
    "        self.lname=lname\n",
    "        #self.email=f\"{fname}@gmail.com\"\n",
    "        \n",
    "    def explain(self):\n",
    "        return f\"This employee is {self.fname} {self.lname}\"\n",
    "    \n",
    "    @property #without using () we can use email func\n",
    "    def email(self):     #change the name of email while changing the fname\n",
    "        if self.fname==None:\n",
    "            return \"Email is not set\"\n",
    "        return f\"{self.fname}@gmail.com\"\n",
    "    \n",
    "    @email.setter #while changing the email fname is changed\n",
    "    def email(self,string):\n",
    "        name=string.split(\"@\")[0]\n",
    "        self.fname=name\n",
    "    \n",
    "    @email.deleter #for deleting the email \n",
    "    def email(self):\n",
    "        self.fname=None\n",
    "\n",
    "skillf=Employee(\"skill\",\"f\")\n",
    "print(skillf.email)\n",
    "\n",
    "print(\"\\n\")\n",
    "print(type(skillf))\n",
    "print(id(skillf))\n",
    "print(dir(skillf))\n",
    "\n",
    "import inspect\n",
    "print(inspect.getmembers(skillf))"
   ]
  },
  {
   "cell_type": "markdown",
   "metadata": {},
   "source": [
    "# Generator"
   ]
  },
  {
   "cell_type": "code",
   "execution_count": 115,
   "metadata": {},
   "outputs": [
    {
     "name": "stdout",
     "output_type": "stream",
     "text": [
      "<generator object gen at 0x000002CA7C5FA480>\n",
      "0\n",
      "1\n",
      "2\n"
     ]
    }
   ],
   "source": [
    "\"\"\"\n",
    "Iterable -> __iter__() or __getitem__()\n",
    "Iterator ->  __next__()\n",
    "Iteration \n",
    "\n",
    "\n",
    "generator is a iterator but it iterate only one time\n",
    "\"\"\"\n",
    "def gen(n):\n",
    "    for i in range(n):\n",
    "        yield i\n",
    "a=gen(3)\n",
    "print(a)\n",
    "print(a.__next__())\n",
    "print(a.__next__())\n",
    "print(a.__next__())\n",
    "\n",
    "for i in a:\n",
    "    print(i)"
   ]
  },
  {
   "cell_type": "markdown",
   "metadata": {},
   "source": [
    " # using else with for loop"
   ]
  },
  {
   "cell_type": "code",
   "execution_count": 117,
   "metadata": {},
   "outputs": [
    {
     "name": "stdout",
     "output_type": "stream",
     "text": [
      "roti\n",
      "daal\n",
      "chawal\n",
      "for loop executed completely\n"
     ]
    }
   ],
   "source": [
    "khana=[\"roti\",\"daal\",\"chawal\"]\n",
    "for item in khana:\n",
    "    print(item)\n",
    "else:\n",
    "    print(\"for loop executed completely\")"
   ]
  },
  {
   "cell_type": "code",
   "execution_count": 119,
   "metadata": {},
   "outputs": [
    {
     "name": "stdout",
     "output_type": "stream",
     "text": [
      "Item is found\n"
     ]
    }
   ],
   "source": [
    "khana=[\"roti\",\"daal\",\"chawal\"]\n",
    "for item in khana:\n",
    "    if(item==\"roti\"):\n",
    "        print(\"Item is found\")\n",
    "        break\n",
    "else:\n",
    "    print(\"for loop executed completely\")"
   ]
  },
  {
   "cell_type": "markdown",
   "metadata": {},
   "source": [
    "# function caching"
   ]
  },
  {
   "cell_type": "code",
   "execution_count": 122,
   "metadata": {},
   "outputs": [
    {
     "name": "stdout",
     "output_type": "stream",
     "text": [
      "Now running some work\n",
      "Done..\n",
      "Calling again...\n",
      "Done..\n"
     ]
    }
   ],
   "source": [
    "import time \n",
    "def somework():\n",
    "    time.sleep(3)\n",
    "    print(\"Done..\")\n",
    "\n",
    "if __name__=='__main__':\n",
    "    print(\"Now running some work\")\n",
    "    somework()\n",
    "    print(\"Calling again...\")\n",
    "    somework()"
   ]
  },
  {
   "cell_type": "code",
   "execution_count": 125,
   "metadata": {},
   "outputs": [
    {
     "name": "stdout",
     "output_type": "stream",
     "text": [
      "Now running some work\n",
      "Done..\n",
      "Calling again...\n",
      "Called again\n"
     ]
    }
   ],
   "source": [
    "import time\n",
    "from functools import lru_cache  # this is for creating cache for particular function \n",
    "@lru_cache(maxsize=3)\n",
    "def somework(n):\n",
    "    time.sleep(n)\n",
    "    print(\"Done..\")\n",
    "\n",
    "if __name__=='__main__':\n",
    "    print(\"Now running some work\")\n",
    "    somework(3)\n",
    "    print(\"Calling again...\")\n",
    "    somework(3)\n",
    "    print(\"Called again\")"
   ]
  },
  {
   "cell_type": "markdown",
   "metadata": {},
   "source": [
    "# Corutine"
   ]
  },
  {
   "cell_type": "code",
   "execution_count": 5,
   "metadata": {},
   "outputs": [
    {
     "name": "stdout",
     "output_type": "stream",
     "text": [
      "Your text is in the book\n",
      "Press Enter\n",
      "Your text is in the book\n",
      "Press Enter\n",
      "Text in not in the book\n",
      "Press Enter\n",
      "Text in not in the book\n"
     ]
    }
   ],
   "source": [
    "def searcher():\n",
    "    import time\n",
    "    book=\"this is good book\"\n",
    "    time.sleep(4)\n",
    "\n",
    "    while True:\n",
    "        text=(yield)\n",
    "        if text in book:\n",
    "            print(\"Your text is in the book\")\n",
    "        else:\n",
    "            print(\"Text in not in the book\")\n",
    "search=searcher()\n",
    "next(search)\n",
    "search.send(\"good\")\n",
    "input(\"Press Enter\")\n",
    "search.send(\"good book\")\n",
    "input(\"Press Enter\")\n",
    "search.send(\"joker\")\n",
    "input(\"Press Enter\")\n",
    "search.send(\"kapil\")\n",
    "search.close()"
   ]
  },
  {
   "cell_type": "markdown",
   "metadata": {},
   "source": [
    "# OS module"
   ]
  },
  {
   "cell_type": "code",
   "execution_count": 13,
   "metadata": {},
   "outputs": [
    {
     "name": "stdout",
     "output_type": "stream",
     "text": [
      "c:\\Users\\Kapil\n",
      "c:\\\n",
      "['$GetCurrent', '$Recycle.Bin', '$SysReset', 'Apps', 'Dell', 'dell.sdr', 'Documents and Settings', 'Downloads', 'Drivers', 'hiberfil.sys', 'Intel', 'MATLAB_R2017a_x64', 'movies', 'OneDriveTemp', 'oraclexe', 'pagefile.sys', 'PerfLogs', 'Program Files', 'Program Files (x86)', 'ProgramData', 'Recovery', 'swapfile.sys', 'System Volume Information', 'TurboC++', 'Users', 'Windows', 'Windows10Upgrade']\n"
     ]
    }
   ],
   "source": [
    "import os\n",
    "#check directory\n",
    "print(os.getcwd())\n",
    "\n",
    "#change directory\n",
    "os.chdir(\"c://\")\n",
    "print(os.getcwd())\n",
    "\n",
    "#to see the content in directory\n",
    "print(os.listdir())\n"
   ]
  },
  {
   "cell_type": "code",
   "execution_count": 14,
   "metadata": {},
   "outputs": [
    {
     "name": "stdout",
     "output_type": "stream",
     "text": [
      "<built-in function getcwd>\n"
     ]
    }
   ],
   "source": [
    "# to make folder at desktop\n",
    "os.chdir(\"c:/Users/Kapil/Desktop\")\n",
    "print(os.getcwd())\n",
    "os.mkdir(\"This\")"
   ]
  },
  {
   "cell_type": "code",
   "execution_count": 15,
   "metadata": {},
   "outputs": [
    {
     "name": "stdout",
     "output_type": "stream",
     "text": [
      "<built-in function getcwd>\n"
     ]
    }
   ],
   "source": [
    "# to make multiple folders in folder\n",
    "os.chdir(\"c:/Users/Kapil/Desktop\")\n",
    "print(os.getcwd())\n",
    "os.makedirs(\"This/That\")"
   ]
  },
  {
   "cell_type": "code",
   "execution_count": 16,
   "metadata": {},
   "outputs": [
    {
     "name": "stdout",
     "output_type": "stream",
     "text": [
      "c:\\Users\\Kapil\\Desktop\n"
     ]
    }
   ],
   "source": [
    "# to rename the name of file on desktop\n",
    "os.chdir(\"c:/Users/Kapil/Desktop\")\n",
    "print(os.getcwd())\n",
    "os.rename(\"abc.txt\",\"xyz.txt\")"
   ]
  },
  {
   "cell_type": "code",
   "execution_count": 19,
   "metadata": {},
   "outputs": [
    {
     "name": "stdout",
     "output_type": "stream",
     "text": [
      "c:/Users/Kapil/Desktop/xyz.txt\n"
     ]
    }
   ],
   "source": [
    "#it gives a path in a optimal way\n",
    "print(os.path.join(\"c:/Users/Kapil/Desktop/\",\"xyz.txt\"))"
   ]
  },
  {
   "cell_type": "code",
   "execution_count": 20,
   "metadata": {},
   "outputs": [
    {
     "name": "stdout",
     "output_type": "stream",
     "text": [
      "True\n"
     ]
    }
   ],
   "source": [
    "#check wether this path is available or not\n",
    "print(os.path.exists(\"c://\"))"
   ]
  },
  {
   "cell_type": "code",
   "execution_count": 22,
   "metadata": {},
   "outputs": [
    {
     "name": "stdout",
     "output_type": "stream",
     "text": [
      "True\n",
      "False\n"
     ]
    }
   ],
   "source": [
    "#check wether this is (dir or file) or not\n",
    "print(os.path.isdir(\"c://Program Files (x86)/\"))\n",
    "print(os.path.isfile(\"c://Program Files (x86)/\"))"
   ]
  },
  {
   "cell_type": "code",
   "execution_count": 25,
   "metadata": {},
   "outputs": [
    {
     "name": "stdout",
     "output_type": "stream",
     "text": [
      "c:\\Users\\Kapil\\Documents\\python\n",
      "['.ipynb_checkpoints', 'AssertonError.py', 'class.py', 'Complete Python for the lerner.ipynb', 'DataType.py', 'demo.txt', 'deno1.txt', 'dict.py', 'ExceptionHandling.py', 'FileHandling.py', 'func.py', 'list.py', 'Module', 'Programs', 'Projects', 'set.py', 'StringFormating.py', 'tuple.py', 'Tutorial 1', 'Untitled.ipynb', 'Untitled1.ipynb', '__pycache__']\n"
     ]
    }
   ],
   "source": [
    "os.chdir(\"c:/Users/Kapil/Documents/python/\")\n",
    "print(os.getcwd())\n",
    "print(os.listdir())"
   ]
  },
  {
   "cell_type": "markdown",
   "metadata": {},
   "source": [
    "# Request module"
   ]
  },
  {
   "cell_type": "code",
   "execution_count": 27,
   "metadata": {},
   "outputs": [
    {
     "name": "stdout",
     "output_type": "stream",
     "text": [
      "{\n",
      "  \"symbol\" : \"AAPL\",\n",
      "  \"price\" : 244.87\n",
      "}\n",
      "200\n"
     ]
    }
   ],
   "source": [
    "import requests\n",
    "#it prints the content of given site(get request)\n",
    "r=requests.get(\"https://financialmodelingprep.com/api/v3/stock/real-time-price/AAPL\")\n",
    "print(r.text)\n",
    "print(r.status_code)"
   ]
  },
  {
   "cell_type": "code",
   "execution_count": 28,
   "metadata": {},
   "outputs": [
    {
     "data": {
      "text/plain": [
       "'\"\\n#post request\\nurl=\"www.something.com\"\\ndata={\\n    \"p1\":4,\\n    \"p2\":8\\n    }\\nr2=requests.post(url=url,data=data)\\n'"
      ]
     },
     "execution_count": 28,
     "metadata": {},
     "output_type": "execute_result"
    }
   ],
   "source": [
    "\"\"\"\"\n",
    "#post request\n",
    "url=\"www.something.com\"\n",
    "data={\n",
    "    \"p1\":4,\n",
    "    \"p2\":8\n",
    "    }\n",
    "r2=requests.post(url=url,data=data)\n",
    "\"\"\""
   ]
  },
  {
   "cell_type": "markdown",
   "metadata": {},
   "source": [
    "# Json module"
   ]
  },
  {
   "cell_type": "code",
   "execution_count": 1,
   "metadata": {},
   "outputs": [
    {
     "name": "stdout",
     "output_type": "stream",
     "text": [
      "harry\n"
     ]
    }
   ],
   "source": [
    "#java script object notation\n",
    "import json\n",
    "data='{\"var1\":\"harry\",\"var2\":56}'\n",
    "parsed=json.loads(data)\n",
    "print(parsed[\"var1\"])"
   ]
  },
  {
   "cell_type": "code",
   "execution_count": 3,
   "metadata": {},
   "outputs": [
    {
     "name": "stdout",
     "output_type": "stream",
     "text": [
      "{\"channelname\": \"codewithkapil\", \"cars\": [\"bmw\", \"audi\"], \"fridge\": [\"roti\", 540], \"isbad\": false}\n"
     ]
    }
   ],
   "source": [
    "#json.dumps is used to convert data2 in acceurate manner for the ant script \n",
    "data2={\"channelname\":\"codewithkapil\",\n",
    "       \"cars\":['bmw','audi'],\n",
    "       \"fridge\":(\"roti\",540),\n",
    "       \"isbad\":False\n",
    "      }\n",
    "jscomp=json.dumps(data2)\n",
    "print(jscomp)"
   ]
  },
  {
   "cell_type": "markdown",
   "metadata": {},
   "source": [
    "# Pickle module"
   ]
  },
  {
   "cell_type": "code",
   "execution_count": 4,
   "metadata": {},
   "outputs": [],
   "source": [
    "import pickle\n",
    "#pickling a python object\n",
    "cars=[\"Audi\",\"BMW\",\"Maruti suzuki\",\"Haaryti Tuzuki\"]\n",
    "file=\"mycar.pkl\"\n",
    "fileobj=open(file,\"wb\")\n",
    "pickle.dump(cars,fileobj)\n",
    "fileobj.close()"
   ]
  },
  {
   "cell_type": "code",
   "execution_count": 5,
   "metadata": {},
   "outputs": [
    {
     "name": "stdout",
     "output_type": "stream",
     "text": [
      "['Audi', 'BMW', 'Maruti suzuki', 'Haaryti Tuzuki']\n"
     ]
    }
   ],
   "source": [
    "file=\"mycar.pkl\"\n",
    "fileobj=open(file,'rb')\n",
    "mycar= pickle.load(fileobj)\n",
    "print(mycar)"
   ]
  },
  {
   "cell_type": "markdown",
   "metadata": {},
   "source": [
    "# Regular Expression"
   ]
  },
  {
   "cell_type": "code",
   "execution_count": 10,
   "metadata": {},
   "outputs": [
    {
     "name": "stdout",
     "output_type": "stream",
     "text": [
      "<re.Match object; span=(22, 26), match='lion'>\n",
      "<re.Match object; span=(175, 179), match='tion'>\n",
      "<re.Match object; span=(219, 223), match='tion'>\n",
      "<re.Match object; span=(264, 268), match='tion'>\n",
      "<re.Match object; span=(421, 425), match='tion'>\n",
      "<re.Match object; span=(471, 475), match='tion'>\n"
     ]
    }
   ],
   "source": [
    "import re\n",
    "mystr =\"Part of the USD100 billion Tata group founded by Jamsetji Tata in 1868, Tata Motors is among the world’s leading manufacturers of automobiles. We believe in ‘Connecting aspirations’, by offering innovative mobility solutions that are in line with customers' aspirations. We are India's largest automobile manufacturer, and we continue to take the lead in shaping the Indian commercial vehicle landscape, with the introduction of leading-edge powertrains and electric solutions packaged for power performances and user comfort at the lowest life-cycle costs. Our new passenger cars and utility vehicles are based on Impact Design and offer a superior blend of performance, driveability and connectivity.\"\n",
    "#findall,search split,sub,finditer\n",
    "patt=re.compile(r'.ion')     #it find the character end with adm\n",
    "matches=patt.finditer(mystr)\n",
    "for match in matches:\n",
    "    print(match)"
   ]
  },
  {
   "cell_type": "code",
   "execution_count": 22,
   "metadata": {},
   "outputs": [
    {
     "name": "stdout",
     "output_type": "stream",
     "text": [
      "<re.Match object; span=(698, 702), match='ity.'>\n"
     ]
    }
   ],
   "source": [
    "patt=re.compile(r'ity.$')    #it find that string last charecter is endede with ity or not  \n",
    "matches=patt.finditer(mystr)\n",
    "for match in matches:\n",
    "    print(match)"
   ]
  },
  {
   "cell_type": "code",
   "execution_count": 23,
   "metadata": {},
   "outputs": [
    {
     "name": "stdout",
     "output_type": "stream",
     "text": [
      "<re.Match object; span=(0, 4), match='Part'>\n"
     ]
    }
   ],
   "source": [
    "patt=re.compile(r'^Part')    # it find the str is startfrom part or not\n",
    "matches=patt.finditer(mystr)\n",
    "for match in matches:\n",
    "    print(match)"
   ]
  },
  {
   "cell_type": "code",
   "execution_count": 24,
   "metadata": {},
   "outputs": [
    {
     "name": "stdout",
     "output_type": "stream",
     "text": [
      "<re.Match object; span=(1, 2), match='a'>\n",
      "<re.Match object; span=(28, 29), match='a'>\n",
      "<re.Match object; span=(30, 31), match='a'>\n",
      "<re.Match object; span=(50, 51), match='a'>\n",
      "<re.Match object; span=(59, 60), match='a'>\n",
      "<re.Match object; span=(61, 62), match='a'>\n",
      "<re.Match object; span=(73, 74), match='a'>\n",
      "<re.Match object; span=(75, 76), match='a'>\n",
      "<re.Match object; span=(87, 88), match='a'>\n",
      "<re.Match object; span=(107, 108), match='a'>\n",
      "<re.Match object; span=(114, 115), match='a'>\n",
      "<re.Match object; span=(118, 119), match='a'>\n",
      "<re.Match object; span=(130, 131), match='a'>\n",
      "<re.Match object; span=(169, 170), match='a'>\n",
      "<re.Match object; span=(174, 175), match='a'>\n",
      "<re.Match object; span=(200, 201), match='a'>\n",
      "<re.Match object; span=(227, 228), match='a'>\n",
      "<re.Match object; span=(230, 231), match='a'>\n",
      "<re.Match object; span=(258, 259), match='a'>\n",
      "<re.Match object; span=(263, 264), match='a'>\n",
      "<re.Match object; span=(274, 275), match='a'>\n",
      "<re.Match object; span=(282, 283), match='a'>\n",
      "<re.Match object; span=(287, 288), match='a'>\n",
      "<re.Match object; span=(294, 295), match='a'>\n",
      "<re.Match object; span=(306, 307), match='a'>\n",
      "<re.Match object; span=(310, 311), match='a'>\n",
      "<re.Match object; span=(319, 320), match='a'>\n",
      "<re.Match object; span=(339, 340), match='a'>\n",
      "<re.Match object; span=(349, 350), match='a'>\n",
      "<re.Match object; span=(357, 358), match='a'>\n",
      "<re.Match object; span=(371, 372), match='a'>\n",
      "<re.Match object; span=(382, 383), match='a'>\n",
      "<re.Match object; span=(394, 395), match='a'>\n",
      "<re.Match object; span=(399, 400), match='a'>\n",
      "<re.Match object; span=(431, 432), match='a'>\n",
      "<re.Match object; span=(449, 451), match='ai'>\n",
      "<re.Match object; span=(454, 455), match='a'>\n",
      "<re.Match object; span=(478, 479), match='a'>\n",
      "<re.Match object; span=(481, 482), match='a'>\n",
      "<re.Match object; span=(503, 504), match='a'>\n",
      "<re.Match object; span=(509, 510), match='a'>\n",
      "<re.Match object; span=(526, 527), match='a'>\n",
      "<re.Match object; span=(567, 568), match='a'>\n",
      "<re.Match object; span=(577, 578), match='a'>\n",
      "<re.Match object; span=(581, 582), match='a'>\n",
      "<re.Match object; span=(602, 603), match='a'>\n",
      "<re.Match object; span=(607, 608), match='a'>\n",
      "<re.Match object; span=(618, 619), match='a'>\n",
      "<re.Match object; span=(629, 630), match='a'>\n",
      "<re.Match object; span=(639, 640), match='a'>\n",
      "<re.Match object; span=(666, 667), match='a'>\n",
      "<re.Match object; span=(677, 678), match='a'>\n",
      "<re.Match object; span=(685, 686), match='a'>\n"
     ]
    }
   ],
   "source": [
    "patt=re.compile(r'ai*')    # in re if there is a * afer charecter then it gives all output from i=0 to i=infinity\n",
    "matches=patt.finditer(mystr)\n",
    "for match in matches:\n",
    "    print(match)"
   ]
  },
  {
   "cell_type": "code",
   "execution_count": 25,
   "metadata": {},
   "outputs": [
    {
     "name": "stdout",
     "output_type": "stream",
     "text": [
      "<re.Match object; span=(449, 451), match='ai'>\n"
     ]
    }
   ],
   "source": [
    "patt=re.compile(r'ai+')    # a then i (ya to 1 ho ya fir use jada ho)\n",
    "matches=patt.finditer(mystr)\n",
    "for match in matches:\n",
    "    print(match)"
   ]
  },
  {
   "cell_type": "code",
   "execution_count": 28,
   "metadata": {},
   "outputs": [
    {
     "name": "stdout",
     "output_type": "stream",
     "text": [
      "<re.Match object; span=(45, 49), match='aiai'>\n",
      "<re.Match object; span=(52, 56), match='aiai'>\n"
     ]
    }
   ],
   "source": [
    "import re\n",
    "mystr =\"Part of the USD100 billion Tata group foundedaiai byaiaiai Jamsetji Tata in 1868, Tata Motors is among the world’s leading manufacturers of automobiles. We believe in ‘Connecting aspirations’, by offering innovative mobility solutions that are in line with customers' aspirations. We are India's largest automobile manufacturer, and we continue to take the lead in shaping the Indian commercial vehicle landscape, with the introduction of leading-edge powertrains and electric solutions packaged for power performances and user comfort at the lowest life-cycle costs. Our new passenger cars and utility vehicles are based on Impact Design and offer a superior blend of performance, driveability and connectivity.\"\n",
    "#findall,search split,sub,finditer\n",
    "patt=re.compile(r'(ai){2}')    # it shows all the combination of aiai in string\n",
    "matches=patt.finditer(mystr)\n",
    "for match in matches:\n",
    "    print(match)"
   ]
  },
  {
   "cell_type": "code",
   "execution_count": 29,
   "metadata": {
    "scrolled": true
   },
   "outputs": [
    {
     "name": "stdout",
     "output_type": "stream",
     "text": [
      "<re.Match object; span=(3, 4), match='t'>\n",
      "<re.Match object; span=(8, 9), match='t'>\n",
      "<re.Match object; span=(29, 30), match='t'>\n",
      "<re.Match object; span=(45, 47), match='ai'>\n",
      "<re.Match object; span=(47, 49), match='ai'>\n",
      "<re.Match object; span=(52, 54), match='ai'>\n",
      "<re.Match object; span=(54, 56), match='ai'>\n",
      "<re.Match object; span=(56, 58), match='ai'>\n",
      "<re.Match object; span=(64, 65), match='t'>\n",
      "<re.Match object; span=(70, 71), match='t'>\n",
      "<re.Match object; span=(84, 85), match='t'>\n",
      "<re.Match object; span=(89, 90), match='t'>\n",
      "<re.Match object; span=(103, 104), match='t'>\n",
      "<re.Match object; span=(130, 131), match='t'>\n",
      "<re.Match object; span=(142, 143), match='t'>\n",
      "<re.Match object; span=(174, 175), match='t'>\n",
      "<re.Match object; span=(185, 186), match='t'>\n",
      "<re.Match object; span=(211, 212), match='t'>\n",
      "<re.Match object; span=(222, 223), match='t'>\n",
      "<re.Match object; span=(229, 230), match='t'>\n",
      "<re.Match object; span=(235, 236), match='t'>\n",
      "<re.Match object; span=(238, 239), match='t'>\n",
      "<re.Match object; span=(254, 255), match='t'>\n",
      "<re.Match object; span=(260, 261), match='t'>\n",
      "<re.Match object; span=(274, 275), match='t'>\n",
      "<re.Match object; span=(302, 303), match='t'>\n",
      "<re.Match object; span=(306, 307), match='t'>\n",
      "<re.Match object; span=(322, 323), match='t'>\n",
      "<re.Match object; span=(339, 340), match='t'>\n",
      "<re.Match object; span=(345, 346), match='t'>\n",
      "<re.Match object; span=(348, 349), match='t'>\n",
      "<re.Match object; span=(353, 354), match='t'>\n",
      "<re.Match object; span=(373, 374), match='t'>\n",
      "<re.Match object; span=(416, 417), match='t'>\n",
      "<re.Match object; span=(419, 420), match='t'>\n",
      "<re.Match object; span=(425, 426), match='t'>\n",
      "<re.Match object; span=(431, 432), match='t'>\n",
      "<re.Match object; span=(457, 458), match='t'>\n",
      "<re.Match object; span=(459, 461), match='ai'>\n",
      "<re.Match object; span=(472, 473), match='t'>\n",
      "<re.Match object; span=(481, 482), match='t'>\n",
      "<re.Match object; span=(534, 535), match='t'>\n",
      "<re.Match object; span=(537, 538), match='t'>\n",
      "<re.Match object; span=(539, 540), match='t'>\n",
      "<re.Match object; span=(548, 549), match='t'>\n",
      "<re.Match object; span=(564, 565), match='t'>\n",
      "<re.Match object; span=(596, 597), match='t'>\n",
      "<re.Match object; span=(600, 601), match='t'>\n",
      "<re.Match object; span=(630, 631), match='t'>\n",
      "<re.Match object; span=(692, 693), match='t'>\n",
      "<re.Match object; span=(705, 706), match='t'>\n",
      "<re.Match object; span=(709, 710), match='t'>\n"
     ]
    }
   ],
   "source": [
    "patt=re.compile(r'ai{1}|t')    # search ai or t if match\n",
    "matches=patt.finditer(mystr)\n",
    "for match in matches:\n",
    "    print(match)"
   ]
  },
  {
   "cell_type": "code",
   "execution_count": 30,
   "metadata": {},
   "outputs": [
    {
     "data": {
      "text/plain": [
       "\"\\nr'\\\\APArt'-> it check whether it is start from part or not\\nr'\\x08Pa'-> it check words that is start from Pa\\nr'ity\\x08'-> it check words that is end from ity\\n\\n\""
      ]
     },
     "execution_count": 30,
     "metadata": {},
     "output_type": "execute_result"
    }
   ],
   "source": [
    "# Special sequence\n",
    "\"\"\"\n",
    "r'\\APArt'-> it check whether it is start from part or not\n",
    "r'\\bPa'-> it check words that is start from Pa\n",
    "r'ity\\b'-> it check words that is end from ity\n",
    "\n",
    "\"\"\""
   ]
  },
  {
   "cell_type": "code",
   "execution_count": null,
   "metadata": {},
   "outputs": [],
   "source": []
  }
 ],
 "metadata": {
  "kernelspec": {
   "display_name": "Python 3",
   "language": "python",
   "name": "python3"
  },
  "language_info": {
   "codemirror_mode": {
    "name": "ipython",
    "version": 3
   },
   "file_extension": ".py",
   "mimetype": "text/x-python",
   "name": "python",
   "nbconvert_exporter": "python",
   "pygments_lexer": "ipython3",
   "version": "3.7.3"
  }
 },
 "nbformat": 4,
 "nbformat_minor": 2
}
